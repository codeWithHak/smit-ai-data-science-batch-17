{
 "cells": [
  {
   "cell_type": "markdown",
   "id": "53f68ac3-1f00-40d1-a5d3-48d25ff41490",
   "metadata": {},
   "source": [
    "# Functions\n",
    "  - Python functions (built-in)\n",
    "  - Python Class Function (inside class)\n",
    "  - User defined Functions"
   ]
  },
  {
   "cell_type": "markdown",
   "id": "0ff4bfb5-6d60-46fe-97da-923cf45257c9",
   "metadata": {},
   "source": [
    "# Python Function: \n",
    "   - print()\n",
    "   - type()\n",
    "   - int()\n",
    "   - float()\n",
    "   - str()\n",
    "   - input()\n",
    "   - max()\n",
    "   - min()\n",
    "   - sum()\n",
    "   - len()\n",
    "   - etc etc \n",
    "    \n",
    "Python Class Function:\n",
    "   - list.insert()\n",
    "   - dict.pop()\n",
    "   - str.lower()\n",
    "   - tuple.count()\n",
    "   - set.difference()"
   ]
  },
  {
   "cell_type": "markdown",
   "id": "551c5809-0e04-423f-8626-f86a78db70ca",
   "metadata": {},
   "source": [
    "# User defined Functions"
   ]
  },
  {
   "cell_type": "code",
   "execution_count": 2,
   "id": "e19e76f7-29e0-4885-b032-ac3064502c90",
   "metadata": {},
   "outputs": [],
   "source": [
    "# defined\n",
    "def say_hello():\n",
    "    print(\"Hello\")   "
   ]
  },
  {
   "cell_type": "code",
   "execution_count": 4,
   "id": "6c72da52-4dac-411c-9fac-9c1a2edd1e18",
   "metadata": {},
   "outputs": [
    {
     "name": "stdout",
     "output_type": "stream",
     "text": [
      "Hello\n"
     ]
    }
   ],
   "source": [
    "# call/invoke\n",
    "say_hello()"
   ]
  },
  {
   "cell_type": "code",
   "execution_count": 5,
   "id": "f7fadc36-9513-4f5a-9667-024fa36a90ea",
   "metadata": {},
   "outputs": [
    {
     "name": "stdout",
     "output_type": "stream",
     "text": [
      "Hello\n"
     ]
    }
   ],
   "source": [
    "say_hello()"
   ]
  },
  {
   "cell_type": "code",
   "execution_count": 6,
   "id": "4b39cb3f-b6b2-47b9-bf2f-4fb7eeaf95f6",
   "metadata": {},
   "outputs": [
    {
     "name": "stdout",
     "output_type": "stream",
     "text": [
      "Hello\n"
     ]
    }
   ],
   "source": [
    "say_hello()"
   ]
  },
  {
   "cell_type": "code",
   "execution_count": 7,
   "id": "2728e93e-f597-4210-bfeb-c398ff4d47b9",
   "metadata": {},
   "outputs": [],
   "source": [
    "def add():\n",
    "    a = 10 \n",
    "    b = 20\n",
    "    print(a+b)"
   ]
  },
  {
   "cell_type": "code",
   "execution_count": 9,
   "id": "ba58ffd6-3a09-4dd8-bd47-affcfa4219ac",
   "metadata": {},
   "outputs": [
    {
     "name": "stdout",
     "output_type": "stream",
     "text": [
      "30\n"
     ]
    }
   ],
   "source": [
    "add()"
   ]
  },
  {
   "cell_type": "code",
   "execution_count": 10,
   "id": "2a229491-ddd5-4eac-b68a-44ae9593fa24",
   "metadata": {},
   "outputs": [
    {
     "name": "stdout",
     "output_type": "stream",
     "text": [
      "30\n"
     ]
    }
   ],
   "source": [
    "add()"
   ]
  },
  {
   "cell_type": "code",
   "execution_count": 13,
   "id": "2ca262c4-6d6e-4f7f-bb42-5b967007da41",
   "metadata": {},
   "outputs": [],
   "source": [
    "# defining a parametrized function\n",
    "def say_hello(name):\n",
    "    print(f\"Hello {name}\")   "
   ]
  },
  {
   "cell_type": "code",
   "execution_count": 14,
   "id": "bd2f9edc-7292-455d-bd4e-c75906420e98",
   "metadata": {},
   "outputs": [
    {
     "ename": "TypeError",
     "evalue": "say_hello() missing 1 required positional argument: 'name'",
     "output_type": "error",
     "traceback": [
      "\u001b[1;31m---------------------------------------------------------------------------\u001b[0m",
      "\u001b[1;31mTypeError\u001b[0m                                 Traceback (most recent call last)",
      "Cell \u001b[1;32mIn[14], line 1\u001b[0m\n\u001b[1;32m----> 1\u001b[0m say_hello()\n",
      "\u001b[1;31mTypeError\u001b[0m: say_hello() missing 1 required positional argument: 'name'"
     ]
    }
   ],
   "source": [
    "say_hello()"
   ]
  },
  {
   "cell_type": "code",
   "execution_count": 15,
   "id": "6e467fa9-0c8f-46e0-b2c0-3e365671d126",
   "metadata": {},
   "outputs": [
    {
     "name": "stdout",
     "output_type": "stream",
     "text": [
      "Hello Ahmed\n"
     ]
    }
   ],
   "source": [
    "say_hello('Ahmed') # argument"
   ]
  },
  {
   "cell_type": "code",
   "execution_count": 16,
   "id": "ec86592e-ad13-4c9c-9b7a-4fd4b02c779e",
   "metadata": {},
   "outputs": [],
   "source": [
    "def add(a,b):    \n",
    "    print(a+b)"
   ]
  },
  {
   "cell_type": "code",
   "execution_count": 17,
   "id": "337564e6-77fd-4883-9e95-330756aec27d",
   "metadata": {},
   "outputs": [
    {
     "ename": "TypeError",
     "evalue": "add() missing 2 required positional arguments: 'a' and 'b'",
     "output_type": "error",
     "traceback": [
      "\u001b[1;31m---------------------------------------------------------------------------\u001b[0m",
      "\u001b[1;31mTypeError\u001b[0m                                 Traceback (most recent call last)",
      "Cell \u001b[1;32mIn[17], line 1\u001b[0m\n\u001b[1;32m----> 1\u001b[0m add()\n",
      "\u001b[1;31mTypeError\u001b[0m: add() missing 2 required positional arguments: 'a' and 'b'"
     ]
    }
   ],
   "source": [
    "add()"
   ]
  },
  {
   "cell_type": "code",
   "execution_count": 18,
   "id": "5b6f05c0-303d-4267-ac6b-588ec7f247e1",
   "metadata": {},
   "outputs": [
    {
     "name": "stdout",
     "output_type": "stream",
     "text": [
      "50\n"
     ]
    }
   ],
   "source": [
    "add(10, 40)"
   ]
  },
  {
   "cell_type": "code",
   "execution_count": 19,
   "id": "3c094770-9bd1-4555-aaee-907e6c00ce6c",
   "metadata": {},
   "outputs": [
    {
     "name": "stdout",
     "output_type": "stream",
     "text": [
      "55\n"
     ]
    }
   ],
   "source": [
    "add(10, 45)"
   ]
  },
  {
   "cell_type": "code",
   "execution_count": 20,
   "id": "7d95a575-fa23-4985-8268-3ef4e5f1565f",
   "metadata": {},
   "outputs": [
    {
     "name": "stdout",
     "output_type": "stream",
     "text": [
      "20\n"
     ]
    }
   ],
   "source": [
    "add(10, 10)"
   ]
  },
  {
   "cell_type": "code",
   "execution_count": 21,
   "id": "d455a7f5-3213-4bbd-ac91-60b296e17b8e",
   "metadata": {},
   "outputs": [],
   "source": [
    "def papoo_add(a,b):    \n",
    "    print(a+b)"
   ]
  },
  {
   "cell_type": "code",
   "execution_count": 22,
   "id": "65624009-3e9e-47f8-af97-521450221a9e",
   "metadata": {},
   "outputs": [
    {
     "name": "stdout",
     "output_type": "stream",
     "text": [
      "6\n"
     ]
    }
   ],
   "source": [
    "papoo_add(2,4)"
   ]
  },
  {
   "cell_type": "code",
   "execution_count": 25,
   "id": "082a5749-71b5-4957-bb8b-af01e51b6aa0",
   "metadata": {},
   "outputs": [
    {
     "name": "stdout",
     "output_type": "stream",
     "text": [
      "3000001\n"
     ]
    }
   ],
   "source": [
    "papoo_add('3', \"000001\")  # IT WILL concatenate strings"
   ]
  },
  {
   "cell_type": "code",
   "execution_count": 26,
   "id": "7eb23b65-cae4-4fe4-ae78-05ee3a8902f5",
   "metadata": {},
   "outputs": [],
   "source": [
    "# write a python function that a string as argument\n",
    "# function analyze string: len, aphabets, spaces, numbers, upper, lower, punctuation\n",
    "# vowels, words,sentence, paragraph"
   ]
  },
  {
   "cell_type": "code",
   "execution_count": 54,
   "id": "139d73b1-8700-4682-92d6-4e2618280dd4",
   "metadata": {},
   "outputs": [],
   "source": [
    "def text_analyzer(txt):\n",
    "    length = len(txt)    \n",
    "    words = len(txt.split(\" \"))    \n",
    "    sentences = len(txt.split(\".\"))\n",
    "    paragraphs = len(txt.split(\"\\n\"))\n",
    "    vow = 'aeiouAEIOU'\n",
    "    punc = '!\"#$%&\\'()*+,-./:;<=>?@[\\\\]^_`{|}~'\n",
    "    punctuation = 0\n",
    "    alphabets = 0\n",
    "    spaces = 0\n",
    "    numbers = 0\n",
    "    lower_case = 0\n",
    "    upper_case  = 0\n",
    "    vowels = 0\n",
    "    others =0\n",
    "    show_others = ''\n",
    "    for char in txt:\n",
    "        if char.isalpha():\n",
    "            alphabets+=1\n",
    "            if char.isupper():\n",
    "                upper_case+=1\n",
    "            else:\n",
    "                lower_case+=1\n",
    "            if char in vow:\n",
    "                vowels +=1               \n",
    "                \n",
    "        elif char.isspace():\n",
    "            spaces+=1\n",
    "        elif char.isnumeric():\n",
    "            numbers+=1\n",
    "        elif char in punc:\n",
    "            punctuation+=1\n",
    "        else:\n",
    "            others+=1\n",
    "            show_others+=char\n",
    "    \n",
    "    \n",
    "    \n",
    "    \n",
    "    \n",
    "    \n",
    "    \n",
    "    \n",
    "    \n",
    "    \n",
    "    \n",
    "    \n",
    "    \n",
    "    \n",
    "    \n",
    "    print(f\"\"\"\n",
    "      Text Length : {length}\n",
    "      Words Length: {(words)}\n",
    "      Sentences are : {(sentences)}\n",
    "      Paragraph length are: {(paragraphs)}\n",
    "      Upper Case : {upper_case}\n",
    "      Lower Case : {lower_case}\n",
    "      Spaces are : {spaces}\n",
    "      Number are : {numbers}\n",
    "      Alphabets  : {alphabets}\n",
    "      vowels : {vowels}\n",
    "      punctuations : {punctuation}\n",
    "      Others     : {others}  \n",
    "      OtherS are : {show_others}\n",
    "    \n",
    "    \"\"\")\n",
    "    "
   ]
  },
  {
   "cell_type": "code",
   "execution_count": 55,
   "id": "916d6f02-a441-413a-8dbb-98fb461b2163",
   "metadata": {},
   "outputs": [
    {
     "name": "stdout",
     "output_type": "stream",
     "text": [
      "\n",
      "      Text Length : 1372\n",
      "      Words Length: 222\n",
      "      Sentences are : 16\n",
      "      Paragraph length are: 13\n",
      "      Upper Case : 23\n",
      "      Lower Case : 1043\n",
      "      Spaces are : 233\n",
      "      Number are : 11\n",
      "      Alphabets  : 1066\n",
      "      vowels : 407\n",
      "      punctuations : 60\n",
      "      Others     : 2  \n",
      "      OtherS are : ’\n",
      "    \n",
      "    \n"
     ]
    }
   ],
   "source": [
    "text_analyzer('''\n",
    "This example shows the simplest structure of a function. The line at uses the keyword def to inform Python that you’re defining a function. This\n",
    "is the function definition, which tells Python the name of the function and, if applicable, what kind of information the function needs to do its job. The\n",
    "parentheses hold that information. In this case, the name of the function is greet_user(), and it needs no information to do its job, so its parentheses\n",
    "are empty. (Even so, the parentheses are required.) Finally, the definitionends in a colon.\n",
    "Any indented lines that follow def greet_user(): make up the body of  34 the function. The text at v is a comment called a docstring, which describes\n",
    "what the function does. Docstrings are enclosed in triple quotes, which Python looks for when it generates documentation for the functions in your\n",
    "programs.\n",
    "The line print(\"Hello!\")  is the only line of actual code in the body 560of this function, so greet_user() has just one job: print(\"Hello!\").\n",
    "When you want to use this function, you call it. A function call tells Python to execute the code in the function. To call a function, you write\n",
    "the name of the function, followed by any necessary 123456 information in parentheses,as shown at x. Because no information is needed here, calling our\n",
    "function is as simple as entering greet_user(). As expected, it prints Hello!:\n",
    "''')"
   ]
  },
  {
   "cell_type": "code",
   "execution_count": 53,
   "id": "9db88f14-c52b-4fe9-b720-adcf4e1a2181",
   "metadata": {},
   "outputs": [
    {
     "data": {
      "text/plain": [
       "3"
      ]
     },
     "execution_count": 53,
     "metadata": {},
     "output_type": "execute_result"
    }
   ],
   "source": [
    "len('Pakistan Zinda Bad'.split(\" \"))"
   ]
  },
  {
   "cell_type": "code",
   "execution_count": 34,
   "id": "1b9b0da6-802b-47d4-9b24-6c06db583d5f",
   "metadata": {},
   "outputs": [
    {
     "data": {
      "text/plain": [
       "3"
      ]
     },
     "execution_count": 34,
     "metadata": {},
     "output_type": "execute_result"
    }
   ],
   "source": [
    "len(\"\"\"Because no \n",
    "information \n",
    "is needed here\"\"\".split(\"\\n\"))"
   ]
  },
  {
   "cell_type": "code",
   "execution_count": 37,
   "id": "5379cd80-ff72-4e97-8f24-be74b657db57",
   "metadata": {},
   "outputs": [
    {
     "name": "stdout",
     "output_type": "stream",
     "text": [
      "P is a aplhabet\n",
      "a is a aplhabet\n",
      "k is a aplhabet\n",
      "i is a aplhabet\n",
      "s is a aplhabet\n",
      "t is a aplhabet\n",
      "a is a aplhabet\n",
      "n is a aplhabet\n",
      "  is not a aplhabet\n",
      "Z is a aplhabet\n",
      "i is a aplhabet\n",
      "n is a aplhabet\n",
      "d is a aplhabet\n",
      "a is a aplhabet\n",
      "  is not a aplhabet\n",
      "B is a aplhabet\n",
      "a is a aplhabet\n",
      "d is a aplhabet\n",
      ". is not a aplhabet\n"
     ]
    }
   ],
   "source": [
    "for char in \"Pakistan Zinda Bad.\":\n",
    "    if char.isalpha():\n",
    "        print(f\"{char} is a aplhabet\")\n",
    "    else:\n",
    "        print(f\"{char} is not a aplhabet\")\n",
    "        "
   ]
  },
  {
   "cell_type": "code",
   "execution_count": 40,
   "id": "c727efcd-fb7b-4384-822f-b8ac09f73731",
   "metadata": {},
   "outputs": [
    {
     "data": {
      "text/plain": [
       "False"
      ]
     },
     "execution_count": 40,
     "metadata": {},
     "output_type": "execute_result"
    }
   ],
   "source": [
    "\"12\".isnumeric()"
   ]
  },
  {
   "cell_type": "code",
   "execution_count": null,
   "id": "4f4f277a-65f3-46cf-926e-9e3e6a07c52c",
   "metadata": {},
   "outputs": [],
   "source": [
    "\"i am 10 year old\""
   ]
  },
  {
   "cell_type": "code",
   "execution_count": 41,
   "id": "a8180eb5-9e34-4c62-b215-cec86435d0bf",
   "metadata": {},
   "outputs": [],
   "source": [
    "import string"
   ]
  },
  {
   "cell_type": "code",
   "execution_count": 42,
   "id": "db033ea4-173a-4fbf-8391-a4a5f97adbe3",
   "metadata": {},
   "outputs": [
    {
     "data": {
      "text/plain": [
       "'!\"#$%&\\'()*+,-./:;<=>?@[\\\\]^_`{|}~'"
      ]
     },
     "execution_count": 42,
     "metadata": {},
     "output_type": "execute_result"
    }
   ],
   "source": [
    "string.punctuation"
   ]
  },
  {
   "cell_type": "code",
   "execution_count": 56,
   "id": "873285ca-86cc-4208-8f4f-ccd6f0935ede",
   "metadata": {},
   "outputs": [
    {
     "name": "stdout",
     "output_type": "stream",
     "text": [
      "\n",
      "      Text Length : 312\n",
      "      Words Length: 21\n",
      "      Sentences are : 2\n",
      "      Paragraph length are: 4\n",
      "      Upper Case : 2\n",
      "      Lower Case : 244\n",
      "      Spaces are : 23\n",
      "      Number are : 3\n",
      "      Alphabets  : 246\n",
      "      vowels : 89\n",
      "      punctuations : 40\n",
      "      Others     : 0  \n",
      "      OtherS are : \n",
      "    \n",
      "    \n"
     ]
    }
   ],
   "source": [
    "text_analyzer(\"\"\"Import and print accuracy, recall, precision, and F1 score:\n",
    "from sklearn.metrics import accuracy_score, recall_score, precision_score, f1_score\n",
    "print(accuracy_score(true_labels, guesses)) print(recall_score(true_labels, guesses))\n",
    "print(precision_score(true_labels, guesses)) print(f1_score(true_labels, guesses))\"\"\")"
   ]
  },
  {
   "cell_type": "code",
   "execution_count": null,
   "id": "dd272496-cdfa-41d7-8b23-20461224f2c3",
   "metadata": {},
   "outputs": [],
   "source": []
  }
 ],
 "metadata": {
  "kernelspec": {
   "display_name": "Python 3 (ipykernel)",
   "language": "python",
   "name": "python3"
  },
  "language_info": {
   "codemirror_mode": {
    "name": "ipython",
    "version": 3
   },
   "file_extension": ".py",
   "mimetype": "text/x-python",
   "name": "python",
   "nbconvert_exporter": "python",
   "pygments_lexer": "ipython3",
   "version": "3.12.3"
  }
 },
 "nbformat": 4,
 "nbformat_minor": 5
}
