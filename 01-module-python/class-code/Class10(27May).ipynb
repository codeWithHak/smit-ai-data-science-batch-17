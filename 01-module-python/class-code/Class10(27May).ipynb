{
 "cells": [
  {
   "cell_type": "markdown",
   "id": "9167ed01-832c-4e62-8186-356ae57d6b96",
   "metadata": {},
   "source": [
    "# While Loop:\n",
    "    for loops iterates over a collection/sequence\n",
    "    where as while loop: condition based"
   ]
  },
  {
   "cell_type": "code",
   "execution_count": 5,
   "id": "68fe7566-4487-4ee1-8e96-0e7c8dc09767",
   "metadata": {},
   "outputs": [
    {
     "name": "stdout",
     "output_type": "stream",
     "text": [
      "0 Hello\n",
      "2 Hello\n",
      "4 Hello\n",
      "6 Hello\n",
      "8 Hello\n",
      "10 Hello\n"
     ]
    }
   ],
   "source": [
    "a = 0\n",
    "while a<=10:\n",
    "    print(a,\"Hello\") # 10 times\n",
    "    a+=2"
   ]
  },
  {
   "cell_type": "code",
   "execution_count": 7,
   "id": "d35db2f4-e171-4127-b4b8-f546c40531ff",
   "metadata": {},
   "outputs": [
    {
     "name": "stdout",
     "output_type": "stream",
     "text": [
      "10 Hello\n",
      "9 Hello\n",
      "8 Hello\n",
      "7 Hello\n",
      "6 Hello\n",
      "5 Hello\n",
      "4 Hello\n",
      "3 Hello\n",
      "2 Hello\n",
      "1 Hello\n"
     ]
    }
   ],
   "source": [
    "a = 10\n",
    "while a>0:\n",
    "    print(a,\"Hello\") # 10 times\n",
    "    a-=1"
   ]
  },
  {
   "cell_type": "code",
   "execution_count": 8,
   "id": "136552b6-7f31-43bc-9ccf-46b820aed6be",
   "metadata": {},
   "outputs": [],
   "source": [
    "age  = 100"
   ]
  },
  {
   "cell_type": "code",
   "execution_count": 9,
   "id": "e5332959-bfac-4596-b529-d4add90a1cb2",
   "metadata": {},
   "outputs": [
    {
     "data": {
      "text/plain": [
       "110"
      ]
     },
     "execution_count": 9,
     "metadata": {},
     "output_type": "execute_result"
    }
   ],
   "source": [
    "age + 10"
   ]
  },
  {
   "cell_type": "code",
   "execution_count": 10,
   "id": "3f39076b-1c5c-4479-ba5c-4ef8dfb79de6",
   "metadata": {},
   "outputs": [
    {
     "data": {
      "text/plain": [
       "100"
      ]
     },
     "execution_count": 10,
     "metadata": {},
     "output_type": "execute_result"
    }
   ],
   "source": [
    "age"
   ]
  },
  {
   "cell_type": "code",
   "execution_count": 11,
   "id": "16f8eb8b-2636-4038-b147-8e92db7484b3",
   "metadata": {},
   "outputs": [],
   "source": [
    "age = age +10\n"
   ]
  },
  {
   "cell_type": "code",
   "execution_count": 12,
   "id": "f0cf572a-ecd0-4cab-8384-69d5171f28ee",
   "metadata": {},
   "outputs": [
    {
     "data": {
      "text/plain": [
       "110"
      ]
     },
     "execution_count": 12,
     "metadata": {},
     "output_type": "execute_result"
    }
   ],
   "source": [
    "age"
   ]
  },
  {
   "cell_type": "code",
   "execution_count": 13,
   "id": "89dde4f2-a5b4-4730-ac56-46d7cc6ef71a",
   "metadata": {},
   "outputs": [],
   "source": [
    "# age = age +10\n",
    "age+=10"
   ]
  },
  {
   "cell_type": "code",
   "execution_count": 15,
   "id": "469ad9f6-94a6-404d-b1ac-717f8d008b73",
   "metadata": {},
   "outputs": [
    {
     "name": "stdin",
     "output_type": "stream",
     "text": [
      "Enter guest name press quit to exit nasir\n",
      "Enter guest name press quit to exit quit\n"
     ]
    },
    {
     "data": {
      "text/plain": [
       "['nasir']"
      ]
     },
     "execution_count": 15,
     "metadata": {},
     "output_type": "execute_result"
    }
   ],
   "source": [
    "guests = []\n",
    "for barati in range(5):\n",
    "    name = input(\"Enter guest name press quit to exit\").lower()\n",
    "    if name=='quit':\n",
    "        break\n",
    "    guests.append(name)\n",
    "guests"
   ]
  },
  {
   "cell_type": "code",
   "execution_count": 16,
   "id": "113291b4-6e93-4cc6-b571-ad10a0060eae",
   "metadata": {},
   "outputs": [
    {
     "name": "stdin",
     "output_type": "stream",
     "text": [
      "Enter guest name press quit to exit a\n",
      "Enter guest name press quit to exit b\n",
      "Enter guest name press quit to exit c\n",
      "Enter guest name press quit to exit d\n",
      "Enter guest name press quit to exit e\n"
     ]
    },
    {
     "data": {
      "text/plain": [
       "['a', 'b', 'c', 'd', 'e']"
      ]
     },
     "execution_count": 16,
     "metadata": {},
     "output_type": "execute_result"
    }
   ],
   "source": [
    "guests = []\n",
    "for barati in range(5):\n",
    "    name = input(\"Enter guest name press quit to exit\").lower()\n",
    "    if name=='quit':\n",
    "        break\n",
    "    guests.append(name)\n",
    "guests"
   ]
  },
  {
   "cell_type": "code",
   "execution_count": 17,
   "id": "edfe1fcf-27c6-42fb-bbff-6e597f6a884a",
   "metadata": {},
   "outputs": [
    {
     "name": "stdin",
     "output_type": "stream",
     "text": [
      "Enter how many guest 3\n",
      "Enter guest name press quit to exit nasir\n",
      "Enter guest name press quit to exit asasd\n",
      "Enter guest name press quit to exit ahmed\n"
     ]
    },
    {
     "data": {
      "text/plain": [
       "['nasir', 'asasd', 'ahmed']"
      ]
     },
     "execution_count": 17,
     "metadata": {},
     "output_type": "execute_result"
    }
   ],
   "source": [
    "guests = []\n",
    "n = int(input(\"Enter how many guest\"))\n",
    "for barati in range(n):\n",
    "    name = input(\"Enter guest name press quit to exit\").lower()\n",
    "    if name=='quit':\n",
    "        break\n",
    "    guests.append(name)\n",
    "guests"
   ]
  },
  {
   "cell_type": "code",
   "execution_count": null,
   "id": "60254b96-05a3-4b98-9fcc-8a0eba762c11",
   "metadata": {},
   "outputs": [],
   "source": [
    "guests=[]\n",
    "count = 0\n",
    "while count<5:\n",
    "    name = input(\"Enter guest name press -1 to exit\").lower()\n",
    "    if name=='-1':\n",
    "        break\n",
    "    guests.append(name)\n",
    "    count+=1\n",
    "guests"
   ]
  },
  {
   "cell_type": "code",
   "execution_count": 5,
   "id": "46bdb15b-f1df-4a19-9dea-c69cfd6be586",
   "metadata": {},
   "outputs": [
    {
     "name": "stdin",
     "output_type": "stream",
     "text": [
      "Enter guest name press quit to exit nasir\n",
      "Enter guest name press quit to exit yasir\n",
      "Enter guest name press quit to exit waqas\n",
      "Enter guest name press quit to exit tahir\n",
      "Enter guest name press quit to exit umer\n",
      "Enter guest name press quit to exit ali\n",
      "Enter guest name press quit to exit quit\n"
     ]
    },
    {
     "data": {
      "text/plain": [
       "['nasir', 'yasir', 'waqas', 'tahir', 'umer', 'ali']"
      ]
     },
     "execution_count": 5,
     "metadata": {},
     "output_type": "execute_result"
    }
   ],
   "source": [
    "friends = []\n",
    "while True:    \n",
    "    name = input(\"Enter guest name press quit to exit\").lower()\n",
    "    if name=='quit':\n",
    "        break\n",
    "    friends.append(name)    \n",
    "friends"
   ]
  },
  {
   "cell_type": "code",
   "execution_count": 6,
   "id": "1fc2bfcf-9af2-4ac5-b452-23c4596b9d8e",
   "metadata": {},
   "outputs": [
    {
     "name": "stdout",
     "output_type": "stream",
     "text": [
      "I like fajita pizza\n",
      "I like peproni pizza\n",
      "I like tikka pizza\n",
      "I really love pizza!\n"
     ]
    }
   ],
   "source": [
    "pizza_names = ['fajita', 'peproni','tikka']\n",
    "for a in pizza_names:\n",
    "    print(f\"I like {a} pizza\")\n",
    "print(\"I really love pizza!\")"
   ]
  },
  {
   "cell_type": "raw",
   "id": "9fdc2548-c486-429b-98c4-a69867e809e3",
   "metadata": {},
   "source": [
    "# 4-5. Summing a Million: Make a list of the numbers from one to one million,\n",
    "and then use min() and max() to make sure your list actually starts at one and\n",
    "ends at one million. Also, use the sum() function to see how quickly Python can\n",
    "add a million numbers."
   ]
  },
  {
   "cell_type": "code",
   "execution_count": 7,
   "id": "cb06ef36-1833-47d4-871f-9f2e6e856bd5",
   "metadata": {},
   "outputs": [],
   "source": [
    "million = list(range(1,1000000))"
   ]
  },
  {
   "cell_type": "code",
   "execution_count": 8,
   "id": "d85c129c-27d6-473a-acdb-31579c15cc1e",
   "metadata": {},
   "outputs": [
    {
     "data": {
      "text/plain": [
       "1"
      ]
     },
     "execution_count": 8,
     "metadata": {},
     "output_type": "execute_result"
    }
   ],
   "source": [
    "min(million)"
   ]
  },
  {
   "cell_type": "code",
   "execution_count": 9,
   "id": "74a77158-e6e8-4a9e-83ba-9119f6f29f74",
   "metadata": {},
   "outputs": [
    {
     "data": {
      "text/plain": [
       "999999"
      ]
     },
     "execution_count": 9,
     "metadata": {},
     "output_type": "execute_result"
    }
   ],
   "source": [
    "max(million)"
   ]
  },
  {
   "cell_type": "code",
   "execution_count": 10,
   "id": "9aa3e3b0-c581-4b30-b486-bb4fcd91d9c8",
   "metadata": {},
   "outputs": [
    {
     "data": {
      "text/plain": [
       "499999500000"
      ]
     },
     "execution_count": 10,
     "metadata": {},
     "output_type": "execute_result"
    }
   ],
   "source": [
    "sum(million)"
   ]
  },
  {
   "cell_type": "raw",
   "id": "c32e70a0-a0dc-478c-8904-3f2c07f161e3",
   "metadata": {},
   "source": [
    "Make a list of the multiples of 3 from 3 to 30. Use a for loop to\n",
    "print the numbers in your list."
   ]
  },
  {
   "cell_type": "code",
   "execution_count": 14,
   "id": "b31ce1a0-6e55-4c65-b58e-18bad52a3686",
   "metadata": {},
   "outputs": [
    {
     "name": "stdout",
     "output_type": "stream",
     "text": [
      "3,6,9,12,15,18,21,24,27,30,"
     ]
    }
   ],
   "source": [
    "for a in list(range(3,31,3)):\n",
    "    print(a,end=\",\")"
   ]
  },
  {
   "cell_type": "raw",
   "id": "119dc1f3-57a3-41e2-a53d-b6f06c5d982d",
   "metadata": {},
   "source": [
    "4-8. Cubes: A number raised to the third power is called a cube. For example,\n",
    "the cube of 2 is written as 2**3 in Python. Make a list of the first 10 cubes (that\n",
    "is, the cube of each integer from 1 through 10), and use a for loop to print out\n",
    "the value of each cube."
   ]
  },
  {
   "cell_type": "code",
   "execution_count": 18,
   "id": "50af438c-3b4d-40ca-9d33-241b498902af",
   "metadata": {},
   "outputs": [
    {
     "data": {
      "text/plain": [
       "[1, 8, 27, 64, 125, 216, 343, 512, 729, 1000, 1331]"
      ]
     },
     "execution_count": 18,
     "metadata": {},
     "output_type": "execute_result"
    }
   ],
   "source": [
    "cubes = []\n",
    "for a in range(1,12):\n",
    "    cubes.append(a**3)\n",
    "cubes"
   ]
  },
  {
   "cell_type": "raw",
   "id": "1745030b-58a7-433c-af5d-614da33c8172",
   "metadata": {},
   "source": [
    "4-10. Slices: Using one of the programs you wrote in this chapter, add several\n",
    "lines to the end of the program that do the following:\n",
    "• Print the message, The first three items in the list are:. Then use a slice to\n",
    "print the first three items from that program’s list.\n",
    "• Print the message, Three items from the middle of the list are:. Use a slice\n",
    "to print three items from the middle of the list.\n",
    "• Print the message, The last three items in the list are:. Use a slice to print\n",
    "the last three items in the list."
   ]
  },
  {
   "cell_type": "code",
   "execution_count": 16,
   "id": "02d19458-5282-4fae-83c6-f629e72c59a3",
   "metadata": {},
   "outputs": [
    {
     "name": "stdout",
     "output_type": "stream",
     "text": [
      "first three items in the list are :[1, 8, 27]\n"
     ]
    }
   ],
   "source": [
    "print(f\"first three items in the list are :{cubes[:3]}\")"
   ]
  },
  {
   "cell_type": "code",
   "execution_count": 20,
   "id": "75305713-e979-491b-ad82-dd4e2a4ea757",
   "metadata": {},
   "outputs": [
    {
     "name": "stdout",
     "output_type": "stream",
     "text": [
      "Three items from the middle of the list are:[125, 216, 343]\n"
     ]
    }
   ],
   "source": [
    "print(f\"Three items from the middle of the list are:{cubes[4:7]}\")"
   ]
  },
  {
   "cell_type": "code",
   "execution_count": 21,
   "id": "05c4af98-85e9-493f-9162-274fab83dcdc",
   "metadata": {},
   "outputs": [
    {
     "name": "stdout",
     "output_type": "stream",
     "text": [
      "first three items in the list are :[729, 1000, 1331]\n"
     ]
    }
   ],
   "source": [
    "print(f\"first three items in the list are :{cubes[-3:]}\")"
   ]
  },
  {
   "cell_type": "code",
   "execution_count": 22,
   "id": "46a88185-7123-4842-9e63-bae661513eae",
   "metadata": {},
   "outputs": [],
   "source": [
    "foods = ('biryani','pulao', 'qorma', 'dal','mixsabzi')"
   ]
  },
  {
   "cell_type": "code",
   "execution_count": 24,
   "id": "77a0b070-5413-4f1d-af2f-46c14140a25c",
   "metadata": {},
   "outputs": [
    {
     "name": "stdout",
     "output_type": "stream",
     "text": [
      " - biryani\n",
      " - pulao\n",
      " - qorma\n",
      " - dal\n",
      " - mixsabzi\n"
     ]
    }
   ],
   "source": [
    "for f in foods:\n",
    "    print(f\" - {f}\")"
   ]
  },
  {
   "cell_type": "code",
   "execution_count": 25,
   "id": "d4652075-89d9-4d34-a65c-3ed02e6f4d5e",
   "metadata": {},
   "outputs": [
    {
     "ename": "TypeError",
     "evalue": "'tuple' object does not support item assignment",
     "output_type": "error",
     "traceback": [
      "\u001b[1;31m---------------------------------------------------------------------------\u001b[0m",
      "\u001b[1;31mTypeError\u001b[0m                                 Traceback (most recent call last)",
      "Cell \u001b[1;32mIn[25], line 1\u001b[0m\n\u001b[1;32m----> 1\u001b[0m foods[\u001b[38;5;241m-\u001b[39m\u001b[38;5;241m1\u001b[39m] \u001b[38;5;241m=\u001b[39m \u001b[38;5;124m'\u001b[39m\u001b[38;5;124mchicken tikka\u001b[39m\u001b[38;5;124m'\u001b[39m\n",
      "\u001b[1;31mTypeError\u001b[0m: 'tuple' object does not support item assignment"
     ]
    }
   ],
   "source": [
    "foods[-1] = 'chicken tikka'"
   ]
  },
  {
   "cell_type": "code",
   "execution_count": 26,
   "id": "f1f89ce2-e1b1-4b7a-ac75-6346819facaf",
   "metadata": {},
   "outputs": [],
   "source": [
    "foods = ('biryani','karahi', 'qarella', 'dal','mixsabzi')"
   ]
  },
  {
   "cell_type": "code",
   "execution_count": 27,
   "id": "beef0101-721c-4780-8598-6457839a6c6b",
   "metadata": {},
   "outputs": [
    {
     "name": "stdout",
     "output_type": "stream",
     "text": [
      " - biryani\n",
      " - karahi\n",
      " - qarella\n",
      " - dal\n",
      " - mixsabzi\n"
     ]
    }
   ],
   "source": [
    "for f in foods:\n",
    "    print(f\" - {f}\")"
   ]
  },
  {
   "cell_type": "raw",
   "id": "07efc1a5-52e4-45da-922c-0c964823601c",
   "metadata": {},
   "source": [
    "5-3. Alien Colors #1: Imagine an alien was just shot down in a game. Create a\n",
    "variable called alien_color and assign it a value of 'green', 'yellow', or 'red'.\n",
    "• Write an if statement to test whether the alien’s color is green. If it is, print\n",
    "a message that the player just earned 5 points.\n",
    "• Write one version of this program that passes the if test and another that\n",
    "fails. (The version that fails will have no output.)"
   ]
  },
  {
   "cell_type": "code",
   "execution_count": 30,
   "id": "30db3beb-c162-4fec-90af-ec31fef2a2b9",
   "metadata": {},
   "outputs": [
    {
     "name": "stdout",
     "output_type": "stream",
     "text": [
      "the player just earned 5 points\n"
     ]
    }
   ],
   "source": [
    "alien_color = 'green'\n",
    "if alien_color == 'green':\n",
    "    print(f\"the player just earned 5 points\")"
   ]
  },
  {
   "cell_type": "code",
   "execution_count": 31,
   "id": "7385e9d2-6d26-47f2-87f8-6e287581ab46",
   "metadata": {},
   "outputs": [],
   "source": [
    "alien_color = 'blue'\n",
    "if alien_color == 'green':\n",
    "    print(f\"the player just earned 5 points\")"
   ]
  },
  {
   "cell_type": "raw",
   "id": "5294ee07-00ed-4186-a940-537adf6620cc",
   "metadata": {},
   "source": [
    "5-4. Alien Colors #2: Choose a color for an alien as you did in Exercise 5-3, and\n",
    "write an if-else chain.\n",
    "• If the alien’s color is green, print a statement that the player just earned\n",
    "5 points for shooting the alien.\n",
    "• If the alien’s color isn’t green, print a statement that the player just earned\n",
    "10 points.\n",
    "• Write one version of this program that runs the if block and another that\n",
    "runs the else block."
   ]
  },
  {
   "cell_type": "code",
   "execution_count": 34,
   "id": "43361c5f-e282-401b-932f-f1ef7fccff8e",
   "metadata": {},
   "outputs": [
    {
     "name": "stdin",
     "output_type": "stream",
     "text": [
      "Color:  red\n"
     ]
    },
    {
     "name": "stdout",
     "output_type": "stream",
     "text": [
      "the player just earned 10 points\n"
     ]
    }
   ],
   "source": [
    "alien_color = input(\"Color: \").lower()\n",
    "if alien_color=='green':\n",
    "    print(f\"the player just earned 5 points\")\n",
    "else:\n",
    "    print(f\"the player just earned 10 points\")"
   ]
  },
  {
   "cell_type": "raw",
   "id": "c6703345-f7f0-4d83-bee8-239fce4ce19d",
   "metadata": {},
   "source": [
    "5-5. Alien Colors #3: Turn your if-else chain from Exercise 5-4 into an if-elifelse\n",
    "chain.\n",
    "• If the alien is green, print a message that the player earned 5 points.\n",
    "• If the alien is yellow, print a message that the player earned 10 points.\n",
    "• If the alien is red, print a message that the player earned 15 points.\n",
    "• Write three versions of this program, making sure each message is printed\n",
    "for the appropriate color alien."
   ]
  },
  {
   "cell_type": "code",
   "execution_count": 40,
   "id": "9a1f08fb-936c-43fe-8413-19cd445f48fb",
   "metadata": {},
   "outputs": [
    {
     "name": "stdin",
     "output_type": "stream",
     "text": [
      "Color:\n",
      " - red\n",
      " - green\n",
      "-  yellow \n",
      " green\n"
     ]
    },
    {
     "name": "stdout",
     "output_type": "stream",
     "text": [
      "the player just earned 5 points\n"
     ]
    }
   ],
   "source": [
    "alien_color = input(\n",
    "\"\"\"Color:\n",
    " - red\n",
    " - green\n",
    "-  yellow \\n\"\"\").lower()\n",
    "if alien_color=='green':\n",
    "    print(f\"the player just earned 5 points\")\n",
    "elif alien_color=='yellow':\n",
    "    print(f\"the player just earned 10 points\")\n",
    "elif alien_color=='red':\n",
    "    print(f\"the player just earned 15 points\")\n",
    "else:\n",
    "    print(\"Your killed is not an alien\")"
   ]
  },
  {
   "cell_type": "markdown",
   "id": "37ff1971-309f-4b32-8ab0-91cd256db473",
   "metadata": {},
   "source": [
    "# prime number detrector"
   ]
  },
  {
   "cell_type": "code",
   "execution_count": null,
   "id": "6d0fbc11-e57d-4878-a93d-c171f846a2fa",
   "metadata": {},
   "outputs": [],
   "source": [
    "num = int(input(\"Enter a number \"))\n",
    "prime=1\n",
    "for a in range(2,num):\n",
    "    if (num)"
   ]
  }
 ],
 "metadata": {
  "kernelspec": {
   "display_name": "Python 3 (ipykernel)",
   "language": "python",
   "name": "python3"
  },
  "language_info": {
   "codemirror_mode": {
    "name": "ipython",
    "version": 3
   },
   "file_extension": ".py",
   "mimetype": "text/x-python",
   "name": "python",
   "nbconvert_exporter": "python",
   "pygments_lexer": "ipython3",
   "version": "3.12.3"
  }
 },
 "nbformat": 4,
 "nbformat_minor": 5
}
