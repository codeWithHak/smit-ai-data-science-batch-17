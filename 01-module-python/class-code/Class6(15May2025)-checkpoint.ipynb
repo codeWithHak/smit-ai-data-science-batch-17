{
 "cells": [
  {
   "cell_type": "markdown",
   "id": "ea6a969c-b0a2-440f-bf75-628ad7fa4290",
   "metadata": {},
   "source": [
    "# Python Data Structures : Collections\n",
    "   - String\n",
    "   - List\n",
    "   - Dictionary\n",
    "   - Tuple\n",
    "   - Set  "
   ]
  },
  {
   "cell_type": "markdown",
   "id": "d39be122-9e28-470a-9df3-b7cf859e0f9c",
   "metadata": {},
   "source": [
    "##### Collection:\n",
    "       - when we store more than 1 value in a single variable"
   ]
  },
  {
   "cell_type": "raw",
   "id": "ce7395fc-d268-494c-b898-ade69af36404",
   "metadata": {},
   "source": [
    "student1 = 'Asad'\n",
    "student2 = 'Rehan'\n",
    "student3 = 'Nasir'\n",
    ".\n",
    ".\n",
    ".\n",
    ".\n",
    ".\n",
    ".\n",
    ".\n"
   ]
  },
  {
   "cell_type": "markdown",
   "id": "30f2191b-c429-4824-909e-5e4069c652fc",
   "metadata": {},
   "source": [
    "##### We can create a list of students "
   ]
  },
  {
   "cell_type": "markdown",
   "id": "befd308a-6e17-412b-801f-33506863bd06",
   "metadata": {},
   "source": [
    "# List:\n",
    "       - []\n",
    "       - mutable : Elements in list can be changed. \n",
    "       - can hold every valid value\n",
    "       - Iterable : loop karsakte hen\n",
    "       "
   ]
  },
  {
   "cell_type": "code",
   "execution_count": 1,
   "id": "21137c77-8664-4468-b6d7-27328b087823",
   "metadata": {},
   "outputs": [],
   "source": [
    "# creating an empty list\n",
    "students = []"
   ]
  },
  {
   "cell_type": "code",
   "execution_count": 2,
   "id": "74b405d8-4eae-46bc-9fcc-5c8a545bdfdc",
   "metadata": {},
   "outputs": [
    {
     "name": "stdout",
     "output_type": "stream",
     "text": [
      "<class 'list'>\n"
     ]
    }
   ],
   "source": [
    "print(type(students))"
   ]
  },
  {
   "cell_type": "code",
   "execution_count": 3,
   "id": "4beda1de-da95-4147-8222-008fbc45cc46",
   "metadata": {},
   "outputs": [
    {
     "data": {
      "text/plain": [
       "0"
      ]
     },
     "execution_count": 3,
     "metadata": {},
     "output_type": "execute_result"
    }
   ],
   "source": [
    "len(students)"
   ]
  },
  {
   "cell_type": "code",
   "execution_count": 4,
   "id": "728ab00d-aca7-4634-a2d6-0908185e6f99",
   "metadata": {},
   "outputs": [],
   "source": [
    "# creating a membered list\n",
    "students = ['Asad','Farooq', 'Shayan','Hashir','Talha','IK','Asim', \"Aurangzeb\"]"
   ]
  },
  {
   "cell_type": "code",
   "execution_count": 5,
   "id": "94c3f61f-6397-43bf-85e5-6b5535bed5ab",
   "metadata": {},
   "outputs": [
    {
     "data": {
      "text/plain": [
       "8"
      ]
     },
     "execution_count": 5,
     "metadata": {},
     "output_type": "execute_result"
    }
   ],
   "source": [
    "len(students)"
   ]
  },
  {
   "cell_type": "markdown",
   "id": "e257c3cc-1e9a-474a-802e-8225cec3ffb9",
   "metadata": {},
   "source": [
    "#### Index : Indices"
   ]
  },
  {
   "cell_type": "code",
   "execution_count": null,
   "id": "391b45f7-e35c-405c-9eb4-7a8fb9a4db87",
   "metadata": {},
   "outputs": [],
   "source": [
    "# +ve         0        1        2        3        4      5    6          7             \n",
    "students = ['Asad','Farooq', 'Shayan','Hashir','Talha','IK','Asim', \"Aurangzeb\"]\n",
    "# -ve         -8      -7        -6      -5       -4     -3    -2        -1"
   ]
  },
  {
   "cell_type": "markdown",
   "id": "d3cf0268-bd82-4375-a140-bb7d2aca9a61",
   "metadata": {},
   "source": [
    "# Acesssing a member using an index number\n",
    "     - We will ALWAYS use [] to fetch members from any collection "
   ]
  },
  {
   "cell_type": "code",
   "execution_count": 6,
   "id": "a9318dc2-e574-487d-ad7c-03fac8e6e3cf",
   "metadata": {},
   "outputs": [
    {
     "data": {
      "text/plain": [
       "'Shayan'"
      ]
     },
     "execution_count": 6,
     "metadata": {},
     "output_type": "execute_result"
    }
   ],
   "source": [
    "students[2]"
   ]
  },
  {
   "cell_type": "code",
   "execution_count": 7,
   "id": "89367a5b-7167-4d9e-9308-ac4937529e45",
   "metadata": {},
   "outputs": [
    {
     "data": {
      "text/plain": [
       "'Talha'"
      ]
     },
     "execution_count": 7,
     "metadata": {},
     "output_type": "execute_result"
    }
   ],
   "source": [
    "students[-4]"
   ]
  },
  {
   "cell_type": "code",
   "execution_count": 8,
   "id": "46905718-4367-474c-bae7-73bcc7393285",
   "metadata": {},
   "outputs": [
    {
     "data": {
      "text/plain": [
       "'Talha'"
      ]
     },
     "execution_count": 8,
     "metadata": {},
     "output_type": "execute_result"
    }
   ],
   "source": [
    "students[4]"
   ]
  },
  {
   "cell_type": "code",
   "execution_count": 9,
   "id": "32bce36c-33f8-4276-9825-9943f25ec63c",
   "metadata": {},
   "outputs": [
    {
     "data": {
      "text/plain": [
       "('Aurangzeb', 'Aurangzeb')"
      ]
     },
     "execution_count": 9,
     "metadata": {},
     "output_type": "execute_result"
    }
   ],
   "source": [
    "students[-1], students[7]"
   ]
  },
  {
   "cell_type": "markdown",
   "id": "b7c08fae-97fa-4a7f-bc8c-d120138855c6",
   "metadata": {},
   "source": [
    "###### Slicing : getting (copy) a subset of list"
   ]
  },
  {
   "cell_type": "code",
   "execution_count": null,
   "id": "8ef2cff7-737b-43fb-b93d-f103369fa352",
   "metadata": {},
   "outputs": [],
   "source": [
    "# +ve         0        1        2        3        4      5    6          7             \n",
    "students = ['Asad','Farooq', 'Shayan','Hashir','Talha','IK','Asim', \"Aurangzeb\"]\n",
    "# -ve         -8      -7        -6      -5       -4     -3    -2        -1"
   ]
  },
  {
   "cell_type": "code",
   "execution_count": 10,
   "id": "7c5e0d3c-75d8-4898-bee5-86afec7db56d",
   "metadata": {},
   "outputs": [
    {
     "data": {
      "text/plain": [
       "['Farooq', 'Shayan', 'Hashir', 'Talha']"
      ]
     },
     "execution_count": 10,
     "metadata": {},
     "output_type": "execute_result"
    }
   ],
   "source": [
    "students[1:5] # index 5, willnot be included"
   ]
  },
  {
   "cell_type": "code",
   "execution_count": 11,
   "id": "2c7602b7-7579-4cbd-ac46-d1684cf52d37",
   "metadata": {},
   "outputs": [
    {
     "data": {
      "text/plain": [
       "['Talha', 'IK', 'Asim', 'Aurangzeb']"
      ]
     },
     "execution_count": 11,
     "metadata": {},
     "output_type": "execute_result"
    }
   ],
   "source": [
    "students[4:8]"
   ]
  },
  {
   "cell_type": "code",
   "execution_count": 12,
   "id": "4cbc32c9-7c71-4c1b-ad9c-8a87ffe3b048",
   "metadata": {},
   "outputs": [
    {
     "data": {
      "text/plain": [
       "['Talha', 'IK', 'Asim', 'Aurangzeb']"
      ]
     },
     "execution_count": 12,
     "metadata": {},
     "output_type": "execute_result"
    }
   ],
   "source": [
    "students[4:]"
   ]
  },
  {
   "cell_type": "code",
   "execution_count": 13,
   "id": "285d754c-ef31-4440-965a-6881d29dbfff",
   "metadata": {},
   "outputs": [
    {
     "data": {
      "text/plain": [
       "['Farooq', 'Shayan', 'Hashir', 'Talha', 'IK']"
      ]
     },
     "execution_count": 13,
     "metadata": {},
     "output_type": "execute_result"
    }
   ],
   "source": [
    "students[-7:-2]"
   ]
  },
  {
   "cell_type": "code",
   "execution_count": 14,
   "id": "d137c71c-b683-45c0-b91f-f1cd9c11e969",
   "metadata": {},
   "outputs": [
    {
     "data": {
      "text/plain": [
       "['Farooq', 'Shayan', 'Hashir', 'Talha', 'IK', 'Asim']"
      ]
     },
     "execution_count": 14,
     "metadata": {},
     "output_type": "execute_result"
    }
   ],
   "source": [
    "students[-7:7]"
   ]
  },
  {
   "cell_type": "code",
   "execution_count": null,
   "id": "03560c33-54eb-4476-a3fc-1cc3fa9efbe2",
   "metadata": {},
   "outputs": [],
   "source": [
    "# +ve         0        1        2        3        4      5    6          7             \n",
    "students = ['Asad','Farooq', 'Shayan','Hashir','Talha','IK','Asim', \"Aurangzeb\"]\n",
    "# -ve         -8      -7        -6      -5       -4     -3    -2        -1"
   ]
  },
  {
   "cell_type": "code",
   "execution_count": 15,
   "id": "9c0b09e5-3ac3-41bf-bd7c-05eaa6f550fc",
   "metadata": {},
   "outputs": [
    {
     "data": {
      "text/plain": [
       "[]"
      ]
     },
     "execution_count": 15,
     "metadata": {},
     "output_type": "execute_result"
    }
   ],
   "source": [
    "students[7:2]"
   ]
  },
  {
   "cell_type": "code",
   "execution_count": 16,
   "id": "1e66513d-c4f2-4b6d-8820-6058ef6a4e40",
   "metadata": {},
   "outputs": [
    {
     "data": {
      "text/plain": [
       "[]"
      ]
     },
     "execution_count": 16,
     "metadata": {},
     "output_type": "execute_result"
    }
   ],
   "source": [
    "students[4:-4]"
   ]
  },
  {
   "cell_type": "code",
   "execution_count": 17,
   "id": "d886a872-36a0-4720-abb3-aa45be621915",
   "metadata": {},
   "outputs": [
    {
     "data": {
      "text/plain": [
       "['Asad']"
      ]
     },
     "execution_count": 17,
     "metadata": {},
     "output_type": "execute_result"
    }
   ],
   "source": [
    "students[-8:1]"
   ]
  },
  {
   "cell_type": "code",
   "execution_count": 18,
   "id": "66f0accf-5059-467e-97cd-771674ef101b",
   "metadata": {},
   "outputs": [
    {
     "data": {
      "text/plain": [
       "['Asad', 'Farooq', 'Shayan', 'Hashir', 'Talha', 'IK', 'Asim']"
      ]
     },
     "execution_count": 18,
     "metadata": {},
     "output_type": "execute_result"
    }
   ],
   "source": [
    "students[0:7:1]  # start, end, step"
   ]
  },
  {
   "cell_type": "code",
   "execution_count": 19,
   "id": "e1252108-c979-42d9-98ea-8e2dc2265c95",
   "metadata": {},
   "outputs": [
    {
     "data": {
      "text/plain": [
       "['Asad', 'Shayan', 'Talha', 'Asim']"
      ]
     },
     "execution_count": 19,
     "metadata": {},
     "output_type": "execute_result"
    }
   ],
   "source": [
    "students[0:7:2]"
   ]
  },
  {
   "cell_type": "code",
   "execution_count": 20,
   "id": "7793690e-4bf5-413a-a7b2-af2257b7e01a",
   "metadata": {},
   "outputs": [
    {
     "data": {
      "text/plain": [
       "['Asad', 'Shayan', 'Talha', 'Asim']"
      ]
     },
     "execution_count": 20,
     "metadata": {},
     "output_type": "execute_result"
    }
   ],
   "source": [
    "students[::2]"
   ]
  },
  {
   "cell_type": "code",
   "execution_count": 27,
   "id": "f1b24de4-e581-4b89-a21b-f5aaf357f255",
   "metadata": {},
   "outputs": [
    {
     "data": {
      "text/plain": [
       "['Asad', 'Aurangzeb']"
      ]
     },
     "execution_count": 27,
     "metadata": {},
     "output_type": "execute_result"
    }
   ],
   "source": [
    "# +ve         0        1        2        3        4      5    6          7             \n",
    "students = ['Asad','Farooq', 'Shayan','Hashir','Talha','IK','Asim', \"Aurangzeb\"]\n",
    "# -ve         -8      -7        -6      -5       -4     -3    -2        -1\n",
    "students[::7]"
   ]
  },
  {
   "cell_type": "code",
   "execution_count": 28,
   "id": "59ddda3d-23f8-4754-ba47-34cde55a61ba",
   "metadata": {},
   "outputs": [
    {
     "data": {
      "text/plain": [
       "['Aurangzeb', 'IK', 'Hashir', 'Farooq']"
      ]
     },
     "execution_count": 28,
     "metadata": {},
     "output_type": "execute_result"
    }
   ],
   "source": [
    "students[7:0:-2]"
   ]
  },
  {
   "cell_type": "code",
   "execution_count": 31,
   "id": "074a1c1f-f2a6-4605-bab8-f0cb1601dfa9",
   "metadata": {},
   "outputs": [
    {
     "data": {
      "text/plain": [
       "['Aurangzeb', 'IK', 'Hashir', 'Farooq']"
      ]
     },
     "execution_count": 31,
     "metadata": {},
     "output_type": "execute_result"
    }
   ],
   "source": [
    "students[::-2]"
   ]
  },
  {
   "cell_type": "code",
   "execution_count": 32,
   "id": "5c3effbd-b0c5-436a-be21-2d49b74a8a95",
   "metadata": {},
   "outputs": [
    {
     "data": {
      "text/plain": [
       "['Asad', 'Farooq', 'Shayan', 'Hashir', 'Talha', 'IK', 'Asim', 'Aurangzeb']"
      ]
     },
     "execution_count": 32,
     "metadata": {},
     "output_type": "execute_result"
    }
   ],
   "source": [
    "students[:]"
   ]
  },
  {
   "cell_type": "code",
   "execution_count": 33,
   "id": "07088c24-7c0b-4a60-a821-250fba7bd473",
   "metadata": {},
   "outputs": [
    {
     "data": {
      "text/plain": [
       "['Asad', 'Farooq', 'Shayan', 'Hashir', 'Talha', 'IK', 'Asim', 'Aurangzeb']"
      ]
     },
     "execution_count": 33,
     "metadata": {},
     "output_type": "execute_result"
    }
   ],
   "source": [
    "students[::]"
   ]
  },
  {
   "cell_type": "code",
   "execution_count": 34,
   "id": "7c069175-e64c-4333-b22e-e9679db822e5",
   "metadata": {},
   "outputs": [
    {
     "data": {
      "text/plain": [
       "[]"
      ]
     },
     "execution_count": 34,
     "metadata": {},
     "output_type": "execute_result"
    }
   ],
   "source": [
    "students[1:7:-1]"
   ]
  },
  {
   "cell_type": "code",
   "execution_count": 38,
   "id": "cf46930b-f737-4473-9e3f-ac270695c9a7",
   "metadata": {},
   "outputs": [
    {
     "ename": "ValueError",
     "evalue": "slice step cannot be zero",
     "output_type": "error",
     "traceback": [
      "\u001b[1;31m---------------------------------------------------------------------------\u001b[0m",
      "\u001b[1;31mValueError\u001b[0m                                Traceback (most recent call last)",
      "Cell \u001b[1;32mIn[38], line 1\u001b[0m\n\u001b[1;32m----> 1\u001b[0m students[::\u001b[38;5;241m0\u001b[39m]\n",
      "\u001b[1;31mValueError\u001b[0m: slice step cannot be zero"
     ]
    }
   ],
   "source": [
    "students[::0]"
   ]
  },
  {
   "cell_type": "code",
   "execution_count": 39,
   "id": "4050befe-cb05-43b7-a353-2d531207a8aa",
   "metadata": {},
   "outputs": [
    {
     "name": "stdout",
     "output_type": "stream",
     "text": [
      "zara\n"
     ]
    }
   ],
   "source": [
    "list1 = ['xyz', 'zara', 'PYnative']\n",
    "print (max(list1))"
   ]
  },
  {
   "cell_type": "code",
   "execution_count": 44,
   "id": "85761b21-a6c0-4174-a6a1-3b613eb95d6c",
   "metadata": {},
   "outputs": [
    {
     "data": {
      "text/plain": [
       "True"
      ]
     },
     "execution_count": 44,
     "metadata": {},
     "output_type": "execute_result"
    }
   ],
   "source": [
    "\"ab\" < \"ac\""
   ]
  },
  {
   "cell_type": "code",
   "execution_count": 51,
   "id": "d4ff3a7a-941f-4cfe-80f9-a39ca9e2e21c",
   "metadata": {},
   "outputs": [
    {
     "name": "stdout",
     "output_type": "stream",
     "text": [
      "[]\n",
      "0\n"
     ]
    }
   ],
   "source": [
    "l = [] * 10\n",
    "print(l)\n",
    "print(len(l))"
   ]
  },
  {
   "cell_type": "code",
   "execution_count": 48,
   "id": "8e0c6e3c-faa2-4a46-b308-5ffd4bb597f4",
   "metadata": {},
   "outputs": [],
   "source": [
    "l = [1,2]*4"
   ]
  },
  {
   "cell_type": "code",
   "execution_count": 49,
   "id": "2065d572-2d19-4173-8c92-fef5d0e5863b",
   "metadata": {},
   "outputs": [
    {
     "data": {
      "text/plain": [
       "[1, 2, 1, 2, 1, 2, 1, 2]"
      ]
     },
     "execution_count": 49,
     "metadata": {},
     "output_type": "execute_result"
    }
   ],
   "source": [
    "l"
   ]
  },
  {
   "cell_type": "code",
   "execution_count": 50,
   "id": "8077470e-9950-45ca-9cd2-4315c4a75b02",
   "metadata": {},
   "outputs": [
    {
     "data": {
      "text/plain": [
       "'PPPPPPPPPP'"
      ]
     },
     "execution_count": 50,
     "metadata": {},
     "output_type": "execute_result"
    }
   ],
   "source": [
    "\"P\"*10"
   ]
  },
  {
   "cell_type": "code",
   "execution_count": 52,
   "id": "8857c1b2-492d-470e-aa78-58241ec010e7",
   "metadata": {},
   "outputs": [],
   "source": [
    "a = None"
   ]
  },
  {
   "cell_type": "raw",
   "id": "d0500b4e-bf79-446f-88ba-ab40d2f777a4",
   "metadata": {},
   "source": [
    "print(a)"
   ]
  },
  {
   "cell_type": "code",
   "execution_count": 53,
   "id": "f4573397-6ba3-4eed-ab27-f8369db30e6b",
   "metadata": {},
   "outputs": [
    {
     "data": {
      "text/plain": [
       "NoneType"
      ]
     },
     "execution_count": 53,
     "metadata": {},
     "output_type": "execute_result"
    }
   ],
   "source": [
    "type(a)"
   ]
  },
  {
   "cell_type": "markdown",
   "id": "aef86ee6-40d6-40e3-b74e-daca3ef9aeb9",
   "metadata": {},
   "source": [
    "# List Functions"
   ]
  },
  {
   "cell_type": "code",
   "execution_count": 54,
   "id": "8c4924f7-8a1f-43bb-bebe-cd39b051acd6",
   "metadata": {},
   "outputs": [
    {
     "data": {
      "text/plain": [
       "['Asad', 'Farooq', 'Shayan', 'Hashir', 'Talha', 'IK', 'Asim', 'Aurangzeb']"
      ]
     },
     "execution_count": 54,
     "metadata": {},
     "output_type": "execute_result"
    }
   ],
   "source": [
    "students"
   ]
  },
  {
   "cell_type": "markdown",
   "id": "c8ac923c-59eb-4b22-ae90-d2a1f4265428",
   "metadata": {},
   "source": [
    "# Adding members in list\n",
    "   - append(): adds a member in last\n",
    "   - insert(): adds memebr on given index\n",
    "   - extend(): add another collection one by one\n",
    "   - '+'       : joins two list and forms a new list"
   ]
  },
  {
   "cell_type": "code",
   "execution_count": 55,
   "id": "c829e0a9-a4df-490b-8c53-9cba7f79cb28",
   "metadata": {},
   "outputs": [],
   "source": [
    "students.append('Shahbaz')"
   ]
  },
  {
   "cell_type": "code",
   "execution_count": 56,
   "id": "78cc96dd-56cc-4b41-806a-d9fe6a60a818",
   "metadata": {},
   "outputs": [
    {
     "data": {
      "text/plain": [
       "['Asad',\n",
       " 'Farooq',\n",
       " 'Shayan',\n",
       " 'Hashir',\n",
       " 'Talha',\n",
       " 'IK',\n",
       " 'Asim',\n",
       " 'Aurangzeb',\n",
       " 'Shahbaz']"
      ]
     },
     "execution_count": 56,
     "metadata": {},
     "output_type": "execute_result"
    }
   ],
   "source": [
    "students"
   ]
  },
  {
   "cell_type": "code",
   "execution_count": 57,
   "id": "f49c56fe-944b-477b-967d-3a34ef860f98",
   "metadata": {},
   "outputs": [],
   "source": [
    "students.insert(4,'Nawaz')"
   ]
  },
  {
   "cell_type": "code",
   "execution_count": 58,
   "id": "8767257f-b4c7-4f95-bb1b-080a0427f2cb",
   "metadata": {},
   "outputs": [
    {
     "data": {
      "text/plain": [
       "['Asad',\n",
       " 'Farooq',\n",
       " 'Shayan',\n",
       " 'Hashir',\n",
       " 'Nawaz',\n",
       " 'Talha',\n",
       " 'IK',\n",
       " 'Asim',\n",
       " 'Aurangzeb',\n",
       " 'Shahbaz']"
      ]
     },
     "execution_count": 58,
     "metadata": {},
     "output_type": "execute_result"
    }
   ],
   "source": [
    "students"
   ]
  },
  {
   "cell_type": "code",
   "execution_count": 59,
   "id": "0bdcbcc2-c7e7-4fc5-87ca-6252ea7d3452",
   "metadata": {},
   "outputs": [],
   "source": [
    "passed_students = ['ahmed','ali','fasial','danial', 'kashif']"
   ]
  },
  {
   "cell_type": "code",
   "execution_count": 60,
   "id": "4952d004-cd45-4d82-b9ba-455710575458",
   "metadata": {},
   "outputs": [],
   "source": [
    "students.append(passed_students)"
   ]
  },
  {
   "cell_type": "code",
   "execution_count": 61,
   "id": "d441a6a1-b412-4726-a7fc-f774bdde88ca",
   "metadata": {},
   "outputs": [
    {
     "data": {
      "text/plain": [
       "['Asad',\n",
       " 'Farooq',\n",
       " 'Shayan',\n",
       " 'Hashir',\n",
       " 'Nawaz',\n",
       " 'Talha',\n",
       " 'IK',\n",
       " 'Asim',\n",
       " 'Aurangzeb',\n",
       " 'Shahbaz',\n",
       " ['ahmed', 'ali', 'fasial', 'danial', 'kashif']]"
      ]
     },
     "execution_count": 61,
     "metadata": {},
     "output_type": "execute_result"
    }
   ],
   "source": [
    "students"
   ]
  },
  {
   "cell_type": "code",
   "execution_count": 62,
   "id": "995a8c58-93e9-4220-946d-c561ad4261d6",
   "metadata": {},
   "outputs": [
    {
     "data": {
      "text/plain": [
       "['Asad',\n",
       " 'Farooq',\n",
       " 'Shayan',\n",
       " 'Hashir',\n",
       " 'Nawaz',\n",
       " 'Talha',\n",
       " 'IK',\n",
       " 'Asim',\n",
       " 'Aurangzeb',\n",
       " 'Shahbaz']"
      ]
     },
     "execution_count": 62,
     "metadata": {},
     "output_type": "execute_result"
    }
   ],
   "source": [
    "del students[-1]\n",
    "students"
   ]
  },
  {
   "cell_type": "code",
   "execution_count": 66,
   "id": "5b6ce538-a272-41d7-ab00-93f9c12911ef",
   "metadata": {},
   "outputs": [],
   "source": [
    "students.extend(passed_students)"
   ]
  },
  {
   "cell_type": "code",
   "execution_count": null,
   "id": "a9bc32ea-acbd-4597-88e1-37d667550912",
   "metadata": {},
   "outputs": [],
   "source": [
    "students"
   ]
  },
  {
   "cell_type": "code",
   "execution_count": null,
   "id": "e43f7846-6a57-4b54-8643-c935553e5479",
   "metadata": {},
   "outputs": [],
   "source": [
    "students + [1,1,3,4,5,6,6]"
   ]
  },
  {
   "cell_type": "code",
   "execution_count": 67,
   "id": "10b8afd4-80a8-4f0d-9bd0-d51e4be493f9",
   "metadata": {},
   "outputs": [],
   "source": [
    "students.insert(3,[33,44,55,66])"
   ]
  },
  {
   "cell_type": "code",
   "execution_count": 68,
   "id": "f33d3213-3918-4c23-846d-8bb6bd52b5c7",
   "metadata": {},
   "outputs": [
    {
     "data": {
      "text/plain": [
       "['Asad',\n",
       " 'Farooq',\n",
       " 'Shayan',\n",
       " [33, 44, 55, 66],\n",
       " 'Hashir',\n",
       " 'Nawaz',\n",
       " 'Talha',\n",
       " 'IK',\n",
       " 'Asim',\n",
       " 'Aurangzeb',\n",
       " 'Shahbaz',\n",
       " 'ahmed',\n",
       " 'ali',\n",
       " 'fasial',\n",
       " 'danial',\n",
       " 'kashif',\n",
       " 'ahmed',\n",
       " 'ali',\n",
       " 'fasial',\n",
       " 'danial',\n",
       " 'kashif']"
      ]
     },
     "execution_count": 68,
     "metadata": {},
     "output_type": "execute_result"
    }
   ],
   "source": [
    "students"
   ]
  },
  {
   "cell_type": "markdown",
   "id": "8965a05f-ca36-42f4-954e-64e23b524b54",
   "metadata": {},
   "source": [
    "# Delete a member from list\n",
    "   - del    : del by index \n",
    "   - pop()  : del by index\n",
    "   - remove(): del by value\n",
    "   -  clear(): del all elements"
   ]
  },
  {
   "cell_type": "code",
   "execution_count": 69,
   "id": "90f79bd0-4b9d-4f29-9ebf-3dd516a2b334",
   "metadata": {},
   "outputs": [
    {
     "data": {
      "text/plain": [
       "['Asad',\n",
       " 'Farooq',\n",
       " 'Shayan',\n",
       " 'Hashir',\n",
       " 'Nawaz',\n",
       " 'Talha',\n",
       " 'IK',\n",
       " 'Asim',\n",
       " 'Aurangzeb',\n",
       " 'Shahbaz',\n",
       " 'ahmed',\n",
       " 'ali',\n",
       " 'fasial',\n",
       " 'danial',\n",
       " 'kashif',\n",
       " 'ahmed',\n",
       " 'ali',\n",
       " 'fasial',\n",
       " 'danial',\n",
       " 'kashif']"
      ]
     },
     "execution_count": 69,
     "metadata": {},
     "output_type": "execute_result"
    }
   ],
   "source": [
    "del students[3]\n",
    "students"
   ]
  },
  {
   "cell_type": "code",
   "execution_count": 70,
   "id": "031ddaa6-2ccc-44f6-ab2a-96c99b978f56",
   "metadata": {},
   "outputs": [
    {
     "data": {
      "text/plain": [
       "['Asad',\n",
       " 'Farooq',\n",
       " 'Shayan',\n",
       " 'Hashir',\n",
       " 'Talha',\n",
       " 'IK',\n",
       " 'Asim',\n",
       " 'Aurangzeb',\n",
       " 'Shahbaz',\n",
       " 'ahmed',\n",
       " 'ali',\n",
       " 'fasial',\n",
       " 'danial',\n",
       " 'kashif',\n",
       " 'ahmed',\n",
       " 'ali',\n",
       " 'fasial',\n",
       " 'danial',\n",
       " 'kashif']"
      ]
     },
     "execution_count": 70,
     "metadata": {},
     "output_type": "execute_result"
    }
   ],
   "source": [
    "students.remove('Nawaz')\n",
    "students"
   ]
  },
  {
   "cell_type": "code",
   "execution_count": 71,
   "id": "2aa1ede0-afd8-4f03-9fbb-9a9fb2313e0b",
   "metadata": {},
   "outputs": [
    {
     "data": {
      "text/plain": [
       "'kashif'"
      ]
     },
     "execution_count": 71,
     "metadata": {},
     "output_type": "execute_result"
    }
   ],
   "source": [
    "students.pop() #returns the deleted item  "
   ]
  },
  {
   "cell_type": "code",
   "execution_count": 72,
   "id": "981e0bc9-c760-4b77-bac1-d46c16818b0c",
   "metadata": {},
   "outputs": [
    {
     "data": {
      "text/plain": [
       "'IK'"
      ]
     },
     "execution_count": 72,
     "metadata": {},
     "output_type": "execute_result"
    }
   ],
   "source": [
    "students.pop(5)"
   ]
  },
  {
   "cell_type": "code",
   "execution_count": 73,
   "id": "e8303874-0756-433c-9786-aa368cffcb20",
   "metadata": {},
   "outputs": [],
   "source": [
    "students.clear()"
   ]
  },
  {
   "cell_type": "code",
   "execution_count": 74,
   "id": "13597448-d921-4609-a4d0-ac5c84cb0b16",
   "metadata": {},
   "outputs": [
    {
     "data": {
      "text/plain": [
       "[]"
      ]
     },
     "execution_count": 74,
     "metadata": {},
     "output_type": "execute_result"
    }
   ],
   "source": [
    "students"
   ]
  },
  {
   "cell_type": "code",
   "execution_count": null,
   "id": "dfd58bd9-2dce-4cf6-93c7-bf3f72bf5164",
   "metadata": {},
   "outputs": [],
   "source": [
    "del students[:-4]"
   ]
  }
 ],
 "metadata": {
  "kernelspec": {
   "display_name": "Python 3 (ipykernel)",
   "language": "python",
   "name": "python3"
  },
  "language_info": {
   "codemirror_mode": {
    "name": "ipython",
    "version": 3
   },
   "file_extension": ".py",
   "mimetype": "text/x-python",
   "name": "python",
   "nbconvert_exporter": "python",
   "pygments_lexer": "ipython3",
   "version": "3.12.3"
  }
 },
 "nbformat": 4,
 "nbformat_minor": 5
}
