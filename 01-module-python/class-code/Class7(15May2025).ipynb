{
 "cells": [
  {
   "cell_type": "markdown",
   "id": "ea6a969c-b0a2-440f-bf75-628ad7fa4290",
   "metadata": {},
   "source": [
    "# Python Data Structures : Collections\n",
    "   - String\n",
    "   - List\n",
    "   - Dictionary\n",
    "   - Tuple\n",
    "   - Set  "
   ]
  },
  {
   "cell_type": "markdown",
   "id": "d39be122-9e28-470a-9df3-b7cf859e0f9c",
   "metadata": {},
   "source": [
    "##### Collection:\n",
    "       - when we store more than 1 value in a single variable"
   ]
  },
  {
   "cell_type": "raw",
   "id": "ce7395fc-d268-494c-b898-ade69af36404",
   "metadata": {},
   "source": [
    "student1 = 'Asad'\n",
    "student2 = 'Rehan'\n",
    "student3 = 'Nasir'\n",
    ".\n",
    ".\n",
    ".\n",
    ".\n",
    ".\n",
    ".\n",
    ".\n"
   ]
  },
  {
   "cell_type": "markdown",
   "id": "30f2191b-c429-4824-909e-5e4069c652fc",
   "metadata": {},
   "source": [
    "##### We can create a list of students "
   ]
  },
  {
   "cell_type": "markdown",
   "id": "befd308a-6e17-412b-801f-33506863bd06",
   "metadata": {},
   "source": [
    "# List:\n",
    "       - []\n",
    "       - mutable : Elements in list can be changed. \n",
    "       - can hold every valid value\n",
    "       - Iterable : loop karsakte hen\n",
    "       "
   ]
  },
  {
   "cell_type": "code",
   "execution_count": 1,
   "id": "21137c77-8664-4468-b6d7-27328b087823",
   "metadata": {},
   "outputs": [],
   "source": [
    "# creating an empty list\n",
    "students = []"
   ]
  },
  {
   "cell_type": "code",
   "execution_count": 2,
   "id": "74b405d8-4eae-46bc-9fcc-5c8a545bdfdc",
   "metadata": {},
   "outputs": [
    {
     "name": "stdout",
     "output_type": "stream",
     "text": [
      "<class 'list'>\n"
     ]
    }
   ],
   "source": [
    "print(type(students))"
   ]
  },
  {
   "cell_type": "code",
   "execution_count": 3,
   "id": "4beda1de-da95-4147-8222-008fbc45cc46",
   "metadata": {},
   "outputs": [
    {
     "data": {
      "text/plain": [
       "0"
      ]
     },
     "execution_count": 3,
     "metadata": {},
     "output_type": "execute_result"
    }
   ],
   "source": [
    "len(students)"
   ]
  },
  {
   "cell_type": "code",
   "execution_count": 4,
   "id": "728ab00d-aca7-4634-a2d6-0908185e6f99",
   "metadata": {},
   "outputs": [],
   "source": [
    "# creating a membered list\n",
    "students = ['Asad','Farooq', 'Shayan','Hashir','Talha','IK','Asim', \"Aurangzeb\"]"
   ]
  },
  {
   "cell_type": "code",
   "execution_count": 5,
   "id": "94c3f61f-6397-43bf-85e5-6b5535bed5ab",
   "metadata": {},
   "outputs": [
    {
     "data": {
      "text/plain": [
       "8"
      ]
     },
     "execution_count": 5,
     "metadata": {},
     "output_type": "execute_result"
    }
   ],
   "source": [
    "len(students)"
   ]
  },
  {
   "cell_type": "markdown",
   "id": "e257c3cc-1e9a-474a-802e-8225cec3ffb9",
   "metadata": {},
   "source": [
    "#### Index : Indices"
   ]
  },
  {
   "cell_type": "code",
   "execution_count": 6,
   "id": "391b45f7-e35c-405c-9eb4-7a8fb9a4db87",
   "metadata": {},
   "outputs": [],
   "source": [
    "# +ve         0        1        2        3        4      5    6          7             \n",
    "students = ['Asad','Farooq', 'Shayan','Hashir','Talha','IK','Asim', \"Aurangzeb\"]\n",
    "# -ve         -8      -7        -6      -5       -4     -3    -2        -1"
   ]
  },
  {
   "cell_type": "markdown",
   "id": "d3cf0268-bd82-4375-a140-bb7d2aca9a61",
   "metadata": {},
   "source": [
    "# Acesssing a member using an index number\n",
    "     - We will ALWAYS use [] to fetch members from any collection "
   ]
  },
  {
   "cell_type": "code",
   "execution_count": 7,
   "id": "a9318dc2-e574-487d-ad7c-03fac8e6e3cf",
   "metadata": {},
   "outputs": [
    {
     "data": {
      "text/plain": [
       "'Shayan'"
      ]
     },
     "execution_count": 7,
     "metadata": {},
     "output_type": "execute_result"
    }
   ],
   "source": [
    "students[2]"
   ]
  },
  {
   "cell_type": "code",
   "execution_count": 8,
   "id": "89367a5b-7167-4d9e-9308-ac4937529e45",
   "metadata": {},
   "outputs": [
    {
     "data": {
      "text/plain": [
       "'Talha'"
      ]
     },
     "execution_count": 8,
     "metadata": {},
     "output_type": "execute_result"
    }
   ],
   "source": [
    "students[-4]"
   ]
  },
  {
   "cell_type": "code",
   "execution_count": 9,
   "id": "46905718-4367-474c-bae7-73bcc7393285",
   "metadata": {},
   "outputs": [
    {
     "data": {
      "text/plain": [
       "'Talha'"
      ]
     },
     "execution_count": 9,
     "metadata": {},
     "output_type": "execute_result"
    }
   ],
   "source": [
    "students[4]"
   ]
  },
  {
   "cell_type": "code",
   "execution_count": 10,
   "id": "32bce36c-33f8-4276-9825-9943f25ec63c",
   "metadata": {},
   "outputs": [
    {
     "data": {
      "text/plain": [
       "('Aurangzeb', 'Aurangzeb')"
      ]
     },
     "execution_count": 10,
     "metadata": {},
     "output_type": "execute_result"
    }
   ],
   "source": [
    "students[-1], students[7]"
   ]
  },
  {
   "cell_type": "markdown",
   "id": "b7c08fae-97fa-4a7f-bc8c-d120138855c6",
   "metadata": {},
   "source": [
    "###### Slicing : getting (copy) a subset of list"
   ]
  },
  {
   "cell_type": "code",
   "execution_count": 11,
   "id": "8ef2cff7-737b-43fb-b93d-f103369fa352",
   "metadata": {},
   "outputs": [],
   "source": [
    "# +ve         0        1        2        3        4      5    6          7             \n",
    "students = ['Asad','Farooq', 'Shayan','Hashir','Talha','IK','Asim', \"Aurangzeb\"]\n",
    "# -ve         -8      -7        -6      -5       -4     -3    -2        -1"
   ]
  },
  {
   "cell_type": "code",
   "execution_count": 12,
   "id": "7c5e0d3c-75d8-4898-bee5-86afec7db56d",
   "metadata": {},
   "outputs": [
    {
     "data": {
      "text/plain": [
       "['Farooq', 'Shayan', 'Hashir', 'Talha']"
      ]
     },
     "execution_count": 12,
     "metadata": {},
     "output_type": "execute_result"
    }
   ],
   "source": [
    "students[1:5] # index 5, willnot be included"
   ]
  },
  {
   "cell_type": "code",
   "execution_count": 13,
   "id": "2c7602b7-7579-4cbd-ac46-d1684cf52d37",
   "metadata": {},
   "outputs": [
    {
     "data": {
      "text/plain": [
       "['Talha', 'IK', 'Asim', 'Aurangzeb']"
      ]
     },
     "execution_count": 13,
     "metadata": {},
     "output_type": "execute_result"
    }
   ],
   "source": [
    "students[4:8]"
   ]
  },
  {
   "cell_type": "code",
   "execution_count": 14,
   "id": "4cbc32c9-7c71-4c1b-ad9c-8a87ffe3b048",
   "metadata": {},
   "outputs": [
    {
     "data": {
      "text/plain": [
       "['Talha', 'IK', 'Asim', 'Aurangzeb']"
      ]
     },
     "execution_count": 14,
     "metadata": {},
     "output_type": "execute_result"
    }
   ],
   "source": [
    "students[4:]"
   ]
  },
  {
   "cell_type": "code",
   "execution_count": 15,
   "id": "285d754c-ef31-4440-965a-6881d29dbfff",
   "metadata": {},
   "outputs": [
    {
     "data": {
      "text/plain": [
       "['Farooq', 'Shayan', 'Hashir', 'Talha', 'IK']"
      ]
     },
     "execution_count": 15,
     "metadata": {},
     "output_type": "execute_result"
    }
   ],
   "source": [
    "students[-7:-2]"
   ]
  },
  {
   "cell_type": "code",
   "execution_count": 16,
   "id": "d137c71c-b683-45c0-b91f-f1cd9c11e969",
   "metadata": {},
   "outputs": [
    {
     "data": {
      "text/plain": [
       "['Farooq', 'Shayan', 'Hashir', 'Talha', 'IK', 'Asim']"
      ]
     },
     "execution_count": 16,
     "metadata": {},
     "output_type": "execute_result"
    }
   ],
   "source": [
    "students[-7:7]"
   ]
  },
  {
   "cell_type": "code",
   "execution_count": 17,
   "id": "03560c33-54eb-4476-a3fc-1cc3fa9efbe2",
   "metadata": {},
   "outputs": [],
   "source": [
    "# +ve         0        1        2        3        4      5    6          7             \n",
    "students = ['Asad','Farooq', 'Shayan','Hashir','Talha','IK','Asim', \"Aurangzeb\"]\n",
    "# -ve         -8      -7        -6      -5       -4     -3    -2        -1"
   ]
  },
  {
   "cell_type": "code",
   "execution_count": 18,
   "id": "9c0b09e5-3ac3-41bf-bd7c-05eaa6f550fc",
   "metadata": {},
   "outputs": [
    {
     "data": {
      "text/plain": [
       "[]"
      ]
     },
     "execution_count": 18,
     "metadata": {},
     "output_type": "execute_result"
    }
   ],
   "source": [
    "students[7:2]"
   ]
  },
  {
   "cell_type": "code",
   "execution_count": 19,
   "id": "1e66513d-c4f2-4b6d-8820-6058ef6a4e40",
   "metadata": {},
   "outputs": [
    {
     "data": {
      "text/plain": [
       "[]"
      ]
     },
     "execution_count": 19,
     "metadata": {},
     "output_type": "execute_result"
    }
   ],
   "source": [
    "students[4:-4]"
   ]
  },
  {
   "cell_type": "code",
   "execution_count": 20,
   "id": "d886a872-36a0-4720-abb3-aa45be621915",
   "metadata": {},
   "outputs": [
    {
     "data": {
      "text/plain": [
       "['Asad']"
      ]
     },
     "execution_count": 20,
     "metadata": {},
     "output_type": "execute_result"
    }
   ],
   "source": [
    "students[-8:1]"
   ]
  },
  {
   "cell_type": "code",
   "execution_count": 21,
   "id": "66f0accf-5059-467e-97cd-771674ef101b",
   "metadata": {},
   "outputs": [
    {
     "data": {
      "text/plain": [
       "['Asad', 'Farooq', 'Shayan', 'Hashir', 'Talha', 'IK', 'Asim']"
      ]
     },
     "execution_count": 21,
     "metadata": {},
     "output_type": "execute_result"
    }
   ],
   "source": [
    "students[0:7:1]  # start, end, step"
   ]
  },
  {
   "cell_type": "code",
   "execution_count": 22,
   "id": "e1252108-c979-42d9-98ea-8e2dc2265c95",
   "metadata": {},
   "outputs": [
    {
     "data": {
      "text/plain": [
       "['Asad', 'Shayan', 'Talha', 'Asim']"
      ]
     },
     "execution_count": 22,
     "metadata": {},
     "output_type": "execute_result"
    }
   ],
   "source": [
    "students[0:7:2]"
   ]
  },
  {
   "cell_type": "code",
   "execution_count": 23,
   "id": "7793690e-4bf5-413a-a7b2-af2257b7e01a",
   "metadata": {},
   "outputs": [
    {
     "data": {
      "text/plain": [
       "['Asad', 'Shayan', 'Talha', 'Asim']"
      ]
     },
     "execution_count": 23,
     "metadata": {},
     "output_type": "execute_result"
    }
   ],
   "source": [
    "students[::2]"
   ]
  },
  {
   "cell_type": "code",
   "execution_count": 24,
   "id": "f1b24de4-e581-4b89-a21b-f5aaf357f255",
   "metadata": {},
   "outputs": [
    {
     "data": {
      "text/plain": [
       "['Asad', 'Aurangzeb']"
      ]
     },
     "execution_count": 24,
     "metadata": {},
     "output_type": "execute_result"
    }
   ],
   "source": [
    "# +ve         0        1        2        3        4      5    6          7             \n",
    "students = ['Asad','Farooq', 'Shayan','Hashir','Talha','IK','Asim', \"Aurangzeb\"]\n",
    "# -ve         -8      -7        -6      -5       -4     -3    -2        -1\n",
    "students[::7]"
   ]
  },
  {
   "cell_type": "code",
   "execution_count": 25,
   "id": "59ddda3d-23f8-4754-ba47-34cde55a61ba",
   "metadata": {},
   "outputs": [
    {
     "data": {
      "text/plain": [
       "['Aurangzeb', 'IK', 'Hashir', 'Farooq']"
      ]
     },
     "execution_count": 25,
     "metadata": {},
     "output_type": "execute_result"
    }
   ],
   "source": [
    "students[7:0:-2]"
   ]
  },
  {
   "cell_type": "code",
   "execution_count": 26,
   "id": "074a1c1f-f2a6-4605-bab8-f0cb1601dfa9",
   "metadata": {},
   "outputs": [
    {
     "data": {
      "text/plain": [
       "['Aurangzeb', 'IK', 'Hashir', 'Farooq']"
      ]
     },
     "execution_count": 26,
     "metadata": {},
     "output_type": "execute_result"
    }
   ],
   "source": [
    "students[::-2]"
   ]
  },
  {
   "cell_type": "code",
   "execution_count": 27,
   "id": "5c3effbd-b0c5-436a-be21-2d49b74a8a95",
   "metadata": {},
   "outputs": [
    {
     "data": {
      "text/plain": [
       "['Asad', 'Farooq', 'Shayan', 'Hashir', 'Talha', 'IK', 'Asim', 'Aurangzeb']"
      ]
     },
     "execution_count": 27,
     "metadata": {},
     "output_type": "execute_result"
    }
   ],
   "source": [
    "students[:]"
   ]
  },
  {
   "cell_type": "code",
   "execution_count": 28,
   "id": "07088c24-7c0b-4a60-a821-250fba7bd473",
   "metadata": {},
   "outputs": [
    {
     "data": {
      "text/plain": [
       "['Asad', 'Farooq', 'Shayan', 'Hashir', 'Talha', 'IK', 'Asim', 'Aurangzeb']"
      ]
     },
     "execution_count": 28,
     "metadata": {},
     "output_type": "execute_result"
    }
   ],
   "source": [
    "students[::]"
   ]
  },
  {
   "cell_type": "code",
   "execution_count": 29,
   "id": "7c069175-e64c-4333-b22e-e9679db822e5",
   "metadata": {},
   "outputs": [
    {
     "data": {
      "text/plain": [
       "[]"
      ]
     },
     "execution_count": 29,
     "metadata": {},
     "output_type": "execute_result"
    }
   ],
   "source": [
    "students[1:7:-1]"
   ]
  },
  {
   "cell_type": "code",
   "execution_count": 30,
   "id": "cf46930b-f737-4473-9e3f-ac270695c9a7",
   "metadata": {},
   "outputs": [
    {
     "ename": "ValueError",
     "evalue": "slice step cannot be zero",
     "output_type": "error",
     "traceback": [
      "\u001b[1;31m---------------------------------------------------------------------------\u001b[0m",
      "\u001b[1;31mValueError\u001b[0m                                Traceback (most recent call last)",
      "Cell \u001b[1;32mIn[30], line 1\u001b[0m\n\u001b[1;32m----> 1\u001b[0m students[::\u001b[38;5;241m0\u001b[39m]\n",
      "\u001b[1;31mValueError\u001b[0m: slice step cannot be zero"
     ]
    }
   ],
   "source": [
    "students[::0]"
   ]
  },
  {
   "cell_type": "code",
   "execution_count": null,
   "id": "4050befe-cb05-43b7-a353-2d531207a8aa",
   "metadata": {},
   "outputs": [],
   "source": [
    "list1 = ['xyz', 'zara', 'PYnative']\n",
    "print (max(list1))"
   ]
  },
  {
   "cell_type": "code",
   "execution_count": null,
   "id": "85761b21-a6c0-4174-a6a1-3b613eb95d6c",
   "metadata": {},
   "outputs": [],
   "source": [
    "\"ab\" < \"ac\""
   ]
  },
  {
   "cell_type": "code",
   "execution_count": null,
   "id": "d4ff3a7a-941f-4cfe-80f9-a39ca9e2e21c",
   "metadata": {},
   "outputs": [],
   "source": [
    "l = [] * 10\n",
    "print(l)\n",
    "print(len(l))"
   ]
  },
  {
   "cell_type": "code",
   "execution_count": null,
   "id": "8e0c6e3c-faa2-4a46-b308-5ffd4bb597f4",
   "metadata": {},
   "outputs": [],
   "source": [
    "l = [1,2]*4"
   ]
  },
  {
   "cell_type": "code",
   "execution_count": null,
   "id": "2065d572-2d19-4173-8c92-fef5d0e5863b",
   "metadata": {},
   "outputs": [],
   "source": [
    "l"
   ]
  },
  {
   "cell_type": "code",
   "execution_count": null,
   "id": "8077470e-9950-45ca-9cd2-4315c4a75b02",
   "metadata": {},
   "outputs": [],
   "source": [
    "\"P\"*10"
   ]
  },
  {
   "cell_type": "code",
   "execution_count": null,
   "id": "8857c1b2-492d-470e-aa78-58241ec010e7",
   "metadata": {},
   "outputs": [],
   "source": [
    "a = None"
   ]
  },
  {
   "cell_type": "raw",
   "id": "d0500b4e-bf79-446f-88ba-ab40d2f777a4",
   "metadata": {},
   "source": [
    "print(a)"
   ]
  },
  {
   "cell_type": "code",
   "execution_count": null,
   "id": "f4573397-6ba3-4eed-ab27-f8369db30e6b",
   "metadata": {},
   "outputs": [],
   "source": [
    "type(a)"
   ]
  },
  {
   "cell_type": "markdown",
   "id": "aef86ee6-40d6-40e3-b74e-daca3ef9aeb9",
   "metadata": {},
   "source": [
    "# List Functions"
   ]
  },
  {
   "cell_type": "code",
   "execution_count": null,
   "id": "8c4924f7-8a1f-43bb-bebe-cd39b051acd6",
   "metadata": {},
   "outputs": [],
   "source": [
    "students"
   ]
  },
  {
   "cell_type": "markdown",
   "id": "c8ac923c-59eb-4b22-ae90-d2a1f4265428",
   "metadata": {},
   "source": [
    "# Adding members in list\n",
    "   - append(): adds a member in last\n",
    "   - insert(): adds memebr on given index\n",
    "   - extend(): add another collection one by one\n",
    "   - '+'       : joins two list and forms a new list"
   ]
  },
  {
   "cell_type": "code",
   "execution_count": null,
   "id": "c829e0a9-a4df-490b-8c53-9cba7f79cb28",
   "metadata": {},
   "outputs": [],
   "source": [
    "students.append('Shahbaz')"
   ]
  },
  {
   "cell_type": "code",
   "execution_count": null,
   "id": "78cc96dd-56cc-4b41-806a-d9fe6a60a818",
   "metadata": {},
   "outputs": [],
   "source": [
    "students"
   ]
  },
  {
   "cell_type": "code",
   "execution_count": null,
   "id": "f49c56fe-944b-477b-967d-3a34ef860f98",
   "metadata": {},
   "outputs": [],
   "source": [
    "students.insert(4,'Nawaz')"
   ]
  },
  {
   "cell_type": "code",
   "execution_count": null,
   "id": "8767257f-b4c7-4f95-bb1b-080a0427f2cb",
   "metadata": {},
   "outputs": [],
   "source": [
    "students"
   ]
  },
  {
   "cell_type": "code",
   "execution_count": null,
   "id": "0bdcbcc2-c7e7-4fc5-87ca-6252ea7d3452",
   "metadata": {},
   "outputs": [],
   "source": [
    "passed_students = ['ahmed','ali','fasial','danial', 'kashif']"
   ]
  },
  {
   "cell_type": "code",
   "execution_count": null,
   "id": "4952d004-cd45-4d82-b9ba-455710575458",
   "metadata": {},
   "outputs": [],
   "source": [
    "students.append(passed_students)"
   ]
  },
  {
   "cell_type": "code",
   "execution_count": null,
   "id": "d441a6a1-b412-4726-a7fc-f774bdde88ca",
   "metadata": {},
   "outputs": [],
   "source": [
    "students"
   ]
  },
  {
   "cell_type": "code",
   "execution_count": null,
   "id": "995a8c58-93e9-4220-946d-c561ad4261d6",
   "metadata": {},
   "outputs": [],
   "source": [
    "del students[-1]\n",
    "students"
   ]
  },
  {
   "cell_type": "code",
   "execution_count": null,
   "id": "5b6ce538-a272-41d7-ab00-93f9c12911ef",
   "metadata": {},
   "outputs": [],
   "source": [
    "students.extend(passed_students)"
   ]
  },
  {
   "cell_type": "code",
   "execution_count": null,
   "id": "a9bc32ea-acbd-4597-88e1-37d667550912",
   "metadata": {},
   "outputs": [],
   "source": [
    "students"
   ]
  },
  {
   "cell_type": "code",
   "execution_count": null,
   "id": "e43f7846-6a57-4b54-8643-c935553e5479",
   "metadata": {},
   "outputs": [],
   "source": [
    "students + [1,1,3,4,5,6,6]"
   ]
  },
  {
   "cell_type": "code",
   "execution_count": null,
   "id": "10b8afd4-80a8-4f0d-9bd0-d51e4be493f9",
   "metadata": {},
   "outputs": [],
   "source": [
    "students.insert(3,[33,44,55,66])"
   ]
  },
  {
   "cell_type": "code",
   "execution_count": null,
   "id": "f33d3213-3918-4c23-846d-8bb6bd52b5c7",
   "metadata": {},
   "outputs": [],
   "source": [
    "students"
   ]
  },
  {
   "cell_type": "markdown",
   "id": "8965a05f-ca36-42f4-954e-64e23b524b54",
   "metadata": {},
   "source": [
    "# Delete a member from list\n",
    "   - del    : del by index \n",
    "   - pop()  : del by index\n",
    "   - remove(): del by value\n",
    "   -  clear(): del all elements"
   ]
  },
  {
   "cell_type": "code",
   "execution_count": 69,
   "id": "90f79bd0-4b9d-4f29-9ebf-3dd516a2b334",
   "metadata": {},
   "outputs": [
    {
     "data": {
      "text/plain": [
       "['Asad',\n",
       " 'Farooq',\n",
       " 'Shayan',\n",
       " 'Hashir',\n",
       " 'Nawaz',\n",
       " 'Talha',\n",
       " 'IK',\n",
       " 'Asim',\n",
       " 'Aurangzeb',\n",
       " 'Shahbaz',\n",
       " 'ahmed',\n",
       " 'ali',\n",
       " 'fasial',\n",
       " 'danial',\n",
       " 'kashif',\n",
       " 'ahmed',\n",
       " 'ali',\n",
       " 'fasial',\n",
       " 'danial',\n",
       " 'kashif']"
      ]
     },
     "execution_count": 69,
     "metadata": {},
     "output_type": "execute_result"
    }
   ],
   "source": [
    "del students[3]\n",
    "students"
   ]
  },
  {
   "cell_type": "code",
   "execution_count": 31,
   "id": "031ddaa6-2ccc-44f6-ab2a-96c99b978f56",
   "metadata": {},
   "outputs": [
    {
     "ename": "ValueError",
     "evalue": "list.remove(x): x not in list",
     "output_type": "error",
     "traceback": [
      "\u001b[1;31m---------------------------------------------------------------------------\u001b[0m",
      "\u001b[1;31mValueError\u001b[0m                                Traceback (most recent call last)",
      "Cell \u001b[1;32mIn[31], line 1\u001b[0m\n\u001b[1;32m----> 1\u001b[0m students\u001b[38;5;241m.\u001b[39mremove(\u001b[38;5;124m'\u001b[39m\u001b[38;5;124mNawaz\u001b[39m\u001b[38;5;124m'\u001b[39m)\n\u001b[0;32m      2\u001b[0m students\n",
      "\u001b[1;31mValueError\u001b[0m: list.remove(x): x not in list"
     ]
    }
   ],
   "source": [
    "students.remove('Nawaz')\n",
    "students"
   ]
  },
  {
   "cell_type": "code",
   "execution_count": 32,
   "id": "2aa1ede0-afd8-4f03-9fbb-9a9fb2313e0b",
   "metadata": {},
   "outputs": [
    {
     "data": {
      "text/plain": [
       "'Aurangzeb'"
      ]
     },
     "execution_count": 32,
     "metadata": {},
     "output_type": "execute_result"
    }
   ],
   "source": [
    "students.pop() #returns the deleted item  "
   ]
  },
  {
   "cell_type": "code",
   "execution_count": 33,
   "id": "981e0bc9-c760-4b77-bac1-d46c16818b0c",
   "metadata": {},
   "outputs": [
    {
     "data": {
      "text/plain": [
       "'IK'"
      ]
     },
     "execution_count": 33,
     "metadata": {},
     "output_type": "execute_result"
    }
   ],
   "source": [
    "students.pop(5)"
   ]
  },
  {
   "cell_type": "code",
   "execution_count": 34,
   "id": "e8303874-0756-433c-9786-aa368cffcb20",
   "metadata": {},
   "outputs": [],
   "source": [
    "students.clear()"
   ]
  },
  {
   "cell_type": "code",
   "execution_count": 35,
   "id": "13597448-d921-4609-a4d0-ac5c84cb0b16",
   "metadata": {},
   "outputs": [
    {
     "data": {
      "text/plain": [
       "[]"
      ]
     },
     "execution_count": 35,
     "metadata": {},
     "output_type": "execute_result"
    }
   ],
   "source": [
    "students"
   ]
  },
  {
   "cell_type": "code",
   "execution_count": 36,
   "id": "dfd58bd9-2dce-4cf6-93c7-bf3f72bf5164",
   "metadata": {},
   "outputs": [],
   "source": [
    "del students[:-4]"
   ]
  },
  {
   "cell_type": "code",
   "execution_count": 39,
   "id": "2a6468fc-d501-4338-af1c-49db846e0c2e",
   "metadata": {},
   "outputs": [],
   "source": [
    "# +ve         0        1        2        3        4      5    6          7             \n",
    "students = ['Asad','Farooq', 'Shayan','Hashir','Talha','IK','Asim', \"Aurangzeb\"]\n",
    "# -ve         -8      -7        -6      -5       -4     -3    -2        -1"
   ]
  },
  {
   "cell_type": "code",
   "execution_count": 40,
   "id": "8f94388d-32f4-49cb-acdc-a0387957f060",
   "metadata": {},
   "outputs": [],
   "source": [
    "students.sort() # permanently sorty the list according to character ASCII value"
   ]
  },
  {
   "cell_type": "code",
   "execution_count": 41,
   "id": "1d4f244d-93c8-4964-a66e-f3648b0ad083",
   "metadata": {},
   "outputs": [
    {
     "data": {
      "text/plain": [
       "['Asad', 'Asim', 'Aurangzeb', 'Farooq', 'Hashir', 'IK', 'Shayan', 'Talha']"
      ]
     },
     "execution_count": 41,
     "metadata": {},
     "output_type": "execute_result"
    }
   ],
   "source": [
    "students"
   ]
  },
  {
   "cell_type": "code",
   "execution_count": 42,
   "id": "16b87061-4150-491c-a9d0-c2004cb5327b",
   "metadata": {},
   "outputs": [],
   "source": [
    "students.sort(reverse=True)"
   ]
  },
  {
   "cell_type": "code",
   "execution_count": 43,
   "id": "836905d8-f919-46c5-a12b-26b2ecb24d68",
   "metadata": {},
   "outputs": [
    {
     "data": {
      "text/plain": [
       "['Talha', 'Shayan', 'IK', 'Hashir', 'Farooq', 'Aurangzeb', 'Asim', 'Asad']"
      ]
     },
     "execution_count": 43,
     "metadata": {},
     "output_type": "execute_result"
    }
   ],
   "source": [
    "students"
   ]
  },
  {
   "cell_type": "code",
   "execution_count": 44,
   "id": "5584e380-4aef-4adf-9565-c57282edfcca",
   "metadata": {},
   "outputs": [
    {
     "data": {
      "text/plain": [
       "['Asad', 'Asim', 'Aurangzeb', 'Farooq', 'Hashir', 'IK', 'Shayan', 'Talha']"
      ]
     },
     "execution_count": 44,
     "metadata": {},
     "output_type": "execute_result"
    }
   ],
   "source": [
    "students.reverse()\n",
    "students"
   ]
  },
  {
   "cell_type": "code",
   "execution_count": 50,
   "id": "9e60d46f-13ab-4f4c-abb2-f4bde5b69a65",
   "metadata": {},
   "outputs": [],
   "source": [
    "nums = [12,45,54,12,34,12,56,45,1,35,90]"
   ]
  },
  {
   "cell_type": "code",
   "execution_count": 46,
   "id": "ad624d1f-4717-4915-8f54-2710a5e027d9",
   "metadata": {},
   "outputs": [
    {
     "data": {
      "text/plain": [
       "[90, 35, 1, 45, 56, 12, 34, 12, 54, 45, 12]"
      ]
     },
     "execution_count": 46,
     "metadata": {},
     "output_type": "execute_result"
    }
   ],
   "source": [
    "nums.reverse()\n",
    "nums"
   ]
  },
  {
   "cell_type": "code",
   "execution_count": 47,
   "id": "7f3a5482-4279-43eb-8a65-3fd05939d2f3",
   "metadata": {},
   "outputs": [
    {
     "data": {
      "text/plain": [
       "[1, 12, 12, 12, 34, 35, 45, 45, 54, 56, 90]"
      ]
     },
     "execution_count": 47,
     "metadata": {},
     "output_type": "execute_result"
    }
   ],
   "source": [
    "nums.sort()\n",
    "nums"
   ]
  },
  {
   "cell_type": "code",
   "execution_count": 48,
   "id": "9fa50a13-31c8-42cb-82d3-2d31424d6641",
   "metadata": {},
   "outputs": [],
   "source": [
    "nums.sort(reverse=True)"
   ]
  },
  {
   "cell_type": "code",
   "execution_count": 49,
   "id": "509531f2-7fcc-404b-89c3-d32bc58903cc",
   "metadata": {},
   "outputs": [
    {
     "data": {
      "text/plain": [
       "[90, 56, 54, 45, 45, 35, 34, 12, 12, 12, 1]"
      ]
     },
     "execution_count": 49,
     "metadata": {},
     "output_type": "execute_result"
    }
   ],
   "source": [
    "nums"
   ]
  },
  {
   "cell_type": "code",
   "execution_count": 51,
   "id": "692d8118-f3e1-4d90-b142-8d43113523ef",
   "metadata": {},
   "outputs": [
    {
     "data": {
      "text/plain": [
       "[12, 45, 54, 12, 34, 12, 56, 45, 1, 35, 90]"
      ]
     },
     "execution_count": 51,
     "metadata": {},
     "output_type": "execute_result"
    }
   ],
   "source": [
    "nums"
   ]
  },
  {
   "cell_type": "code",
   "execution_count": 55,
   "id": "b66076a7-1922-4394-830a-c5dbc767081c",
   "metadata": {},
   "outputs": [
    {
     "ename": "AttributeError",
     "evalue": "'NoneType' object has no attribute 'reverse'",
     "output_type": "error",
     "traceback": [
      "\u001b[1;31m---------------------------------------------------------------------------\u001b[0m",
      "\u001b[1;31mAttributeError\u001b[0m                            Traceback (most recent call last)",
      "Cell \u001b[1;32mIn[55], line 1\u001b[0m\n\u001b[1;32m----> 1\u001b[0m nums\u001b[38;5;241m.\u001b[39msort(reverse\u001b[38;5;241m=\u001b[39m\u001b[38;5;28;01mFalse\u001b[39;00m)\u001b[38;5;241m.\u001b[39mreverse()\n",
      "\u001b[1;31mAttributeError\u001b[0m: 'NoneType' object has no attribute 'reverse'"
     ]
    }
   ],
   "source": [
    "nums.sort(reverse=False).reverse()"
   ]
  },
  {
   "cell_type": "code",
   "execution_count": 53,
   "id": "a946cb4d-a83a-4a64-98be-591b2b997ab2",
   "metadata": {},
   "outputs": [
    {
     "data": {
      "text/plain": [
       "[1, 12, 12, 12, 34, 35, 45, 45, 54, 56, 90]"
      ]
     },
     "execution_count": 53,
     "metadata": {},
     "output_type": "execute_result"
    }
   ],
   "source": [
    "nums"
   ]
  },
  {
   "cell_type": "code",
   "execution_count": 60,
   "id": "c0f73ee4-0562-49a5-be86-45558d5220e8",
   "metadata": {},
   "outputs": [],
   "source": [
    "nums = [12,45,54,12,34,12,56,45,1,35,90]\n",
    "nums.reverse()"
   ]
  },
  {
   "cell_type": "code",
   "execution_count": 63,
   "id": "7b4cdf9f-6558-483e-b822-44a149bcf748",
   "metadata": {},
   "outputs": [
    {
     "data": {
      "text/plain": [
       "[90, 35, 1, 45, 56, 12, 34, 12, 54, 45, 12]"
      ]
     },
     "execution_count": 63,
     "metadata": {},
     "output_type": "execute_result"
    }
   ],
   "source": [
    "nums"
   ]
  },
  {
   "cell_type": "code",
   "execution_count": 64,
   "id": "7c16c23e-3647-440a-8c92-ecbe5f395a9c",
   "metadata": {},
   "outputs": [
    {
     "data": {
      "text/plain": [
       "8"
      ]
     },
     "execution_count": 64,
     "metadata": {},
     "output_type": "execute_result"
    }
   ],
   "source": [
    "nums.index(54)"
   ]
  },
  {
   "cell_type": "code",
   "execution_count": 66,
   "id": "585ea0a9-88b8-4b6d-98c3-24c150c9c709",
   "metadata": {},
   "outputs": [],
   "source": [
    "del students[students.index('Farooq')]"
   ]
  },
  {
   "cell_type": "code",
   "execution_count": 70,
   "id": "0d20a874-0ddc-4e03-835b-b7463d3f8594",
   "metadata": {},
   "outputs": [],
   "source": [
    "students=['Asad', 'Asim', 'Aurangzeb', 'Hashir', 'IK', 'Shayan', 'Asim','Talha']"
   ]
  },
  {
   "cell_type": "code",
   "execution_count": 71,
   "id": "a4d1e98f-5675-4a49-a377-eeee109e6d52",
   "metadata": {},
   "outputs": [
    {
     "data": {
      "text/plain": [
       "6"
      ]
     },
     "execution_count": 71,
     "metadata": {},
     "output_type": "execute_result"
    }
   ],
   "source": [
    "students.index('Asim',2)"
   ]
  },
  {
   "cell_type": "code",
   "execution_count": 72,
   "id": "74925b3f-54b3-4224-966d-432eaf045b05",
   "metadata": {},
   "outputs": [
    {
     "data": {
      "text/plain": [
       "2"
      ]
     },
     "execution_count": 72,
     "metadata": {},
     "output_type": "execute_result"
    }
   ],
   "source": [
    "students.count(\"Asim\")"
   ]
  },
  {
   "cell_type": "markdown",
   "id": "de1cf0e3-94ce-4474-be19-c57bfca0538f",
   "metadata": {},
   "source": [
    "# Dictionary\n",
    "   - {}\n",
    "   - {key:value}\n",
    "   - index nahi hoty\n",
    "   - mutable\n"
   ]
  },
  {
   "cell_type": "code",
   "execution_count": 73,
   "id": "c26d2db5-4b91-4569-958c-23e7d2d081a8",
   "metadata": {},
   "outputs": [],
   "source": [
    "record1 = {'name':'Anas', 'Age':23, 'City':'Karachi', 'Gender':'Male'}"
   ]
  },
  {
   "cell_type": "code",
   "execution_count": 74,
   "id": "caf11824-c6c5-420e-9214-56acc07f6e5f",
   "metadata": {},
   "outputs": [
    {
     "name": "stdout",
     "output_type": "stream",
     "text": [
      "{'name': 'Anas', 'Age': 23, 'City': 'Karachi', 'Gender': 'Male'}\n"
     ]
    }
   ],
   "source": [
    "print(record1)"
   ]
  },
  {
   "cell_type": "code",
   "execution_count": 77,
   "id": "c2bd7874-e2b9-4541-ba2f-c7735fa80eb6",
   "metadata": {},
   "outputs": [
    {
     "data": {
      "text/plain": [
       "dict"
      ]
     },
     "execution_count": 77,
     "metadata": {},
     "output_type": "execute_result"
    }
   ],
   "source": [
    "type(record1)"
   ]
  },
  {
   "cell_type": "code",
   "execution_count": 76,
   "id": "0cb11960-1d62-4703-9d7d-b8c5641f6f7c",
   "metadata": {},
   "outputs": [
    {
     "data": {
      "text/plain": [
       "4"
      ]
     },
     "execution_count": 76,
     "metadata": {},
     "output_type": "execute_result"
    }
   ],
   "source": [
    "len(record1)"
   ]
  },
  {
   "cell_type": "markdown",
   "id": "30f5af60-fe97-4d2a-85df-5c5ff86d7c87",
   "metadata": {},
   "source": [
    "##### Adding a new key:value pair in dictionary"
   ]
  },
  {
   "cell_type": "code",
   "execution_count": 78,
   "id": "4bf6b86c-8953-4b8a-9e51-ca47e8a40fef",
   "metadata": {},
   "outputs": [],
   "source": [
    "record1['contact']='1236767880'\n",
    "record1['abba'] ='Riyaz sb'"
   ]
  },
  {
   "cell_type": "code",
   "execution_count": 85,
   "id": "5da994c6-954c-46ed-967e-88290a0622b1",
   "metadata": {},
   "outputs": [],
   "source": [
    "record1['qualification'] = 'BS'"
   ]
  },
  {
   "cell_type": "code",
   "execution_count": 86,
   "id": "9bd39f80-e2e2-4a2c-ae19-b8da57bc430f",
   "metadata": {},
   "outputs": [
    {
     "data": {
      "text/plain": [
       "{'name': 'Anas',\n",
       " 'Age': 23,\n",
       " 'City': 'Karachi',\n",
       " 'Gender': 'Male',\n",
       " 'contact': '1236767880',\n",
       " 'abba': 'Muhammad Riaz',\n",
       " 'qualification': 'BS'}"
      ]
     },
     "execution_count": 86,
     "metadata": {},
     "output_type": "execute_result"
    }
   ],
   "source": [
    "record1"
   ]
  },
  {
   "cell_type": "markdown",
   "id": "f53b1182-b702-4593-9621-9638c79e72b6",
   "metadata": {},
   "source": [
    "##### if a key exist: it will update its value"
   ]
  },
  {
   "cell_type": "code",
   "execution_count": 80,
   "id": "fcc8128d-378d-4e53-bd7f-fcde701a7f06",
   "metadata": {},
   "outputs": [
    {
     "data": {
      "text/plain": [
       "{'name': 'Anas',\n",
       " 'Age': 23,\n",
       " 'City': 'Karachi',\n",
       " 'Gender': 'Male',\n",
       " 'contact': '1236767880',\n",
       " 'abba': 'Muhammad Riaz'}"
      ]
     },
     "execution_count": 80,
     "metadata": {},
     "output_type": "execute_result"
    }
   ],
   "source": [
    "record1['abba']= 'Muhammad Riaz'\n",
    "record1"
   ]
  },
  {
   "cell_type": "markdown",
   "id": "511db482-740a-428b-9699-0392104d3cd0",
   "metadata": {},
   "source": [
    "##### Accessing a member"
   ]
  },
  {
   "cell_type": "code",
   "execution_count": 81,
   "id": "bce82c22-bbd5-4c7e-b594-66a509b1f7a4",
   "metadata": {},
   "outputs": [
    {
     "data": {
      "text/plain": [
       "'Muhammad Riaz'"
      ]
     },
     "execution_count": 81,
     "metadata": {},
     "output_type": "execute_result"
    }
   ],
   "source": [
    "record1['abba']"
   ]
  },
  {
   "cell_type": "code",
   "execution_count": 82,
   "id": "3e4d3757-a3af-4bee-ba7b-2e2f49dc92e1",
   "metadata": {},
   "outputs": [
    {
     "data": {
      "text/plain": [
       "'1236767880'"
      ]
     },
     "execution_count": 82,
     "metadata": {},
     "output_type": "execute_result"
    }
   ],
   "source": [
    "record1['contact']"
   ]
  },
  {
   "cell_type": "code",
   "execution_count": 84,
   "id": "cd231d20-2184-4c24-a43d-c0beac35ac34",
   "metadata": {},
   "outputs": [
    {
     "data": {
      "text/plain": [
       "'Karachi'"
      ]
     },
     "execution_count": 84,
     "metadata": {},
     "output_type": "execute_result"
    }
   ],
   "source": [
    "record1['City']"
   ]
  },
  {
   "cell_type": "markdown",
   "id": "575f189e-8aee-49dd-a8bd-7e134a20994d",
   "metadata": {},
   "source": [
    "##### How tyo remove members from dictionary"
   ]
  },
  {
   "cell_type": "code",
   "execution_count": 87,
   "id": "515d6942-6252-4be9-acca-ed6b28c18606",
   "metadata": {},
   "outputs": [],
   "source": [
    "del record1['contact']"
   ]
  },
  {
   "cell_type": "code",
   "execution_count": 88,
   "id": "2a0c6caf-6aa7-469d-bc9c-759e9ade2eb0",
   "metadata": {},
   "outputs": [
    {
     "data": {
      "text/plain": [
       "{'name': 'Anas',\n",
       " 'Age': 23,\n",
       " 'City': 'Karachi',\n",
       " 'Gender': 'Male',\n",
       " 'abba': 'Muhammad Riaz',\n",
       " 'qualification': 'BS'}"
      ]
     },
     "execution_count": 88,
     "metadata": {},
     "output_type": "execute_result"
    }
   ],
   "source": [
    "record1"
   ]
  },
  {
   "cell_type": "code",
   "execution_count": 89,
   "id": "d9687091-6fd5-43bf-9bc2-139c626fb83f",
   "metadata": {},
   "outputs": [
    {
     "data": {
      "text/plain": [
       "'Muhammad Riaz'"
      ]
     },
     "execution_count": 89,
     "metadata": {},
     "output_type": "execute_result"
    }
   ],
   "source": [
    "record1.pop('abba')"
   ]
  },
  {
   "cell_type": "code",
   "execution_count": 90,
   "id": "946b6a10-3161-45db-81aa-9af0cdc5590c",
   "metadata": {},
   "outputs": [
    {
     "data": {
      "text/plain": [
       "('qualification', 'BS')"
      ]
     },
     "execution_count": 90,
     "metadata": {},
     "output_type": "execute_result"
    }
   ],
   "source": [
    "record1.popitem()"
   ]
  },
  {
   "cell_type": "code",
   "execution_count": 91,
   "id": "f99a7bc5-bc43-4e8f-8162-302424c56268",
   "metadata": {},
   "outputs": [
    {
     "data": {
      "text/plain": [
       "dict_values(['Anas', 23, 'Karachi', 'Male'])"
      ]
     },
     "execution_count": 91,
     "metadata": {},
     "output_type": "execute_result"
    }
   ],
   "source": [
    "record1.values()"
   ]
  },
  {
   "cell_type": "code",
   "execution_count": 92,
   "id": "4edcfa8a-718d-43bc-8cb5-6d7f6602f55d",
   "metadata": {},
   "outputs": [
    {
     "data": {
      "text/plain": [
       "dict_keys(['name', 'Age', 'City', 'Gender'])"
      ]
     },
     "execution_count": 92,
     "metadata": {},
     "output_type": "execute_result"
    }
   ],
   "source": [
    "record1.keys()"
   ]
  },
  {
   "cell_type": "code",
   "execution_count": 93,
   "id": "df5a4d20-bb88-4519-aa92-edb4cb7b1fc5",
   "metadata": {},
   "outputs": [
    {
     "data": {
      "text/plain": [
       "dict_items([('name', 'Anas'), ('Age', 23), ('City', 'Karachi'), ('Gender', 'Male')])"
      ]
     },
     "execution_count": 93,
     "metadata": {},
     "output_type": "execute_result"
    }
   ],
   "source": [
    "record1.items()"
   ]
  },
  {
   "cell_type": "code",
   "execution_count": 94,
   "id": "44b7b9a7-f484-481e-9156-abb00e1895cd",
   "metadata": {},
   "outputs": [
    {
     "data": {
      "text/plain": [
       "('Anas', 'Anas')"
      ]
     },
     "execution_count": 94,
     "metadata": {},
     "output_type": "execute_result"
    }
   ],
   "source": [
    "record1.get('name')  , record1['name']"
   ]
  },
  {
   "cell_type": "code",
   "execution_count": 95,
   "id": "e01a9d1d-78fa-415e-820a-b980b435a167",
   "metadata": {},
   "outputs": [
    {
     "ename": "KeyError",
     "evalue": "'height'",
     "output_type": "error",
     "traceback": [
      "\u001b[1;31m---------------------------------------------------------------------------\u001b[0m",
      "\u001b[1;31mKeyError\u001b[0m                                  Traceback (most recent call last)",
      "Cell \u001b[1;32mIn[95], line 1\u001b[0m\n\u001b[1;32m----> 1\u001b[0m record1[\u001b[38;5;124m'\u001b[39m\u001b[38;5;124mheight\u001b[39m\u001b[38;5;124m'\u001b[39m]\n",
      "\u001b[1;31mKeyError\u001b[0m: 'height'"
     ]
    }
   ],
   "source": [
    "record1['height']"
   ]
  },
  {
   "cell_type": "code",
   "execution_count": 100,
   "id": "2a3a4f94-e843-467b-9587-344335ec0df9",
   "metadata": {},
   "outputs": [
    {
     "data": {
      "text/plain": [
       "'ye item nahi hy'"
      ]
     },
     "execution_count": 100,
     "metadata": {},
     "output_type": "execute_result"
    }
   ],
   "source": [
    "record1.get('height', \"ye item nahi hy\")"
   ]
  },
  {
   "cell_type": "code",
   "execution_count": 102,
   "id": "320fecc5-1b58-47fd-9d35-195c5cdc484a",
   "metadata": {},
   "outputs": [
    {
     "data": {
      "text/plain": [
       "{'name': 'Anas',\n",
       " 'Age': 23,\n",
       " 'City': 'Karachi',\n",
       " 'Gender': 'Male',\n",
       " 'meta_data': {'children': 12, 'height': 5.7, 'blood_gp': 'B+'}}"
      ]
     },
     "execution_count": 102,
     "metadata": {},
     "output_type": "execute_result"
    }
   ],
   "source": [
    "record1['meta_data'] = meta_data\n",
    "record1"
   ]
  },
  {
   "cell_type": "code",
   "execution_count": 103,
   "id": "fdd945aa-552e-4218-9d6c-0c06881d2a02",
   "metadata": {},
   "outputs": [],
   "source": [
    "del record1['meta_data']"
   ]
  },
  {
   "cell_type": "code",
   "execution_count": 101,
   "id": "ef5e9452-9197-4568-ae74-ddb19db854cb",
   "metadata": {},
   "outputs": [],
   "source": [
    "meta_data = {'children':12, 'height':5.7, 'blood_gp':\"B+\"}"
   ]
  },
  {
   "cell_type": "code",
   "execution_count": 104,
   "id": "ddee2687-ab05-4b75-a52a-aa829cc7c8d2",
   "metadata": {},
   "outputs": [],
   "source": [
    "record1.update(meta_data)"
   ]
  },
  {
   "cell_type": "code",
   "execution_count": 105,
   "id": "26a85d83-e45a-4163-8101-5b4aa26ce77f",
   "metadata": {},
   "outputs": [
    {
     "data": {
      "text/plain": [
       "{'name': 'Anas',\n",
       " 'Age': 23,\n",
       " 'City': 'Karachi',\n",
       " 'Gender': 'Male',\n",
       " 'children': 12,\n",
       " 'height': 5.7,\n",
       " 'blood_gp': 'B+'}"
      ]
     },
     "execution_count": 105,
     "metadata": {},
     "output_type": "execute_result"
    }
   ],
   "source": [
    "record1"
   ]
  },
  {
   "cell_type": "markdown",
   "id": "df2920ac-edcf-47ff-9fef-8ac4f6c1a39e",
   "metadata": {},
   "source": [
    "# List in a dictionary"
   ]
  },
  {
   "cell_type": "code",
   "execution_count": 106,
   "id": "618b966a-0f28-4b4b-907e-ce5a6e68c579",
   "metadata": {},
   "outputs": [
    {
     "data": {
      "text/plain": [
       "{'roll': [1, 2, 3, 4, 5, 6, 7, 8, 9, 10],\n",
       " 'name': ['Asad',\n",
       "  'Asim',\n",
       "  'Aurangzeb',\n",
       "  'Hashir',\n",
       "  'IK',\n",
       "  'Shayan',\n",
       "  'Asim',\n",
       "  'Talha',\n",
       "  'Ali',\n",
       "  'Luqman'],\n",
       " 'course': ['Python',\n",
       "  'Web',\n",
       "  'CyberSecurity',\n",
       "  'Python',\n",
       "  'Web',\n",
       "  'CyberSecurity',\n",
       "  'Python',\n",
       "  'Web',\n",
       "  'CyberSecurity',\n",
       "  'Python'],\n",
       " 'marks': [90, 78, 67, 78, 89, 78, 98, 90, 99, 78]}"
      ]
     },
     "execution_count": 106,
     "metadata": {},
     "output_type": "execute_result"
    }
   ],
   "source": [
    "students = {'roll':[1,2,3,4,5,6,7,8,9,10],\n",
    "            'name':['Asad', 'Asim', 'Aurangzeb', 'Hashir', 'IK', 'Shayan', 'Asim','Talha','Ali','Luqman'],\n",
    "            'course':['Python','Web','CyberSecurity','Python','Web','CyberSecurity','Python','Web','CyberSecurity','Python'],\n",
    "             'marks':[90,78,67,78,89,78,98,90,99,78]}\n",
    "students"
   ]
  },
  {
   "cell_type": "code",
   "execution_count": 107,
   "id": "8ca21df4-ce06-48f1-a387-d9aba7cdb398",
   "metadata": {},
   "outputs": [
    {
     "data": {
      "text/plain": [
       "[1, 2, 3, 4, 5, 6, 7, 8, 9, 10]"
      ]
     },
     "execution_count": 107,
     "metadata": {},
     "output_type": "execute_result"
    }
   ],
   "source": [
    "students['roll']"
   ]
  },
  {
   "cell_type": "code",
   "execution_count": 108,
   "id": "d7b6b7dc-e0af-4c2e-8519-953554f0cae7",
   "metadata": {},
   "outputs": [
    {
     "data": {
      "text/plain": [
       "['Asad',\n",
       " 'Asim',\n",
       " 'Aurangzeb',\n",
       " 'Hashir',\n",
       " 'IK',\n",
       " 'Shayan',\n",
       " 'Asim',\n",
       " 'Talha',\n",
       " 'Ali',\n",
       " 'Luqman']"
      ]
     },
     "execution_count": 108,
     "metadata": {},
     "output_type": "execute_result"
    }
   ],
   "source": [
    "students['name']"
   ]
  },
  {
   "cell_type": "code",
   "execution_count": 109,
   "id": "3f62f172-62c3-4891-9979-43dbfcfb77e8",
   "metadata": {},
   "outputs": [
    {
     "data": {
      "text/html": [
       "<div>\n",
       "<style scoped>\n",
       "    .dataframe tbody tr th:only-of-type {\n",
       "        vertical-align: middle;\n",
       "    }\n",
       "\n",
       "    .dataframe tbody tr th {\n",
       "        vertical-align: top;\n",
       "    }\n",
       "\n",
       "    .dataframe thead th {\n",
       "        text-align: right;\n",
       "    }\n",
       "</style>\n",
       "<table border=\"1\" class=\"dataframe\">\n",
       "  <thead>\n",
       "    <tr style=\"text-align: right;\">\n",
       "      <th></th>\n",
       "      <th>roll</th>\n",
       "      <th>name</th>\n",
       "      <th>course</th>\n",
       "      <th>marks</th>\n",
       "    </tr>\n",
       "  </thead>\n",
       "  <tbody>\n",
       "    <tr>\n",
       "      <th>0</th>\n",
       "      <td>1</td>\n",
       "      <td>Asad</td>\n",
       "      <td>Python</td>\n",
       "      <td>90</td>\n",
       "    </tr>\n",
       "    <tr>\n",
       "      <th>1</th>\n",
       "      <td>2</td>\n",
       "      <td>Asim</td>\n",
       "      <td>Web</td>\n",
       "      <td>78</td>\n",
       "    </tr>\n",
       "    <tr>\n",
       "      <th>2</th>\n",
       "      <td>3</td>\n",
       "      <td>Aurangzeb</td>\n",
       "      <td>CyberSecurity</td>\n",
       "      <td>67</td>\n",
       "    </tr>\n",
       "    <tr>\n",
       "      <th>3</th>\n",
       "      <td>4</td>\n",
       "      <td>Hashir</td>\n",
       "      <td>Python</td>\n",
       "      <td>78</td>\n",
       "    </tr>\n",
       "    <tr>\n",
       "      <th>4</th>\n",
       "      <td>5</td>\n",
       "      <td>IK</td>\n",
       "      <td>Web</td>\n",
       "      <td>89</td>\n",
       "    </tr>\n",
       "    <tr>\n",
       "      <th>5</th>\n",
       "      <td>6</td>\n",
       "      <td>Shayan</td>\n",
       "      <td>CyberSecurity</td>\n",
       "      <td>78</td>\n",
       "    </tr>\n",
       "    <tr>\n",
       "      <th>6</th>\n",
       "      <td>7</td>\n",
       "      <td>Asim</td>\n",
       "      <td>Python</td>\n",
       "      <td>98</td>\n",
       "    </tr>\n",
       "    <tr>\n",
       "      <th>7</th>\n",
       "      <td>8</td>\n",
       "      <td>Talha</td>\n",
       "      <td>Web</td>\n",
       "      <td>90</td>\n",
       "    </tr>\n",
       "    <tr>\n",
       "      <th>8</th>\n",
       "      <td>9</td>\n",
       "      <td>Ali</td>\n",
       "      <td>CyberSecurity</td>\n",
       "      <td>99</td>\n",
       "    </tr>\n",
       "    <tr>\n",
       "      <th>9</th>\n",
       "      <td>10</td>\n",
       "      <td>Luqman</td>\n",
       "      <td>Python</td>\n",
       "      <td>78</td>\n",
       "    </tr>\n",
       "  </tbody>\n",
       "</table>\n",
       "</div>"
      ],
      "text/plain": [
       "   roll       name         course  marks\n",
       "0     1       Asad         Python     90\n",
       "1     2       Asim            Web     78\n",
       "2     3  Aurangzeb  CyberSecurity     67\n",
       "3     4     Hashir         Python     78\n",
       "4     5         IK            Web     89\n",
       "5     6     Shayan  CyberSecurity     78\n",
       "6     7       Asim         Python     98\n",
       "7     8      Talha            Web     90\n",
       "8     9        Ali  CyberSecurity     99\n",
       "9    10     Luqman         Python     78"
      ]
     },
     "execution_count": 109,
     "metadata": {},
     "output_type": "execute_result"
    }
   ],
   "source": [
    "import pandas as pd\n",
    "pd.DataFrame(students)"
   ]
  },
  {
   "cell_type": "markdown",
   "id": "2197244f-a09c-468a-8b8e-ecb0c3a5e525",
   "metadata": {},
   "source": [
    "# Tuple: \n",
    "     - ()\n",
    "     - immutable"
   ]
  },
  {
   "cell_type": "code",
   "execution_count": 112,
   "id": "9746ea93-b571-4464-8b28-fff992a61952",
   "metadata": {},
   "outputs": [],
   "source": [
    "a = (1,2,3,4,5)"
   ]
  },
  {
   "cell_type": "code",
   "execution_count": 113,
   "id": "9fd1437d-d8a3-49e9-a39b-bd805786c7e9",
   "metadata": {},
   "outputs": [
    {
     "data": {
      "text/plain": [
       "tuple"
      ]
     },
     "execution_count": 113,
     "metadata": {},
     "output_type": "execute_result"
    }
   ],
   "source": [
    "type(a)"
   ]
  },
  {
   "cell_type": "code",
   "execution_count": 114,
   "id": "164a27ee-3a95-4fc6-9f99-2c2abc2fcc75",
   "metadata": {},
   "outputs": [
    {
     "ename": "TypeError",
     "evalue": "'tuple' object does not support item assignment",
     "output_type": "error",
     "traceback": [
      "\u001b[1;31m---------------------------------------------------------------------------\u001b[0m",
      "\u001b[1;31mTypeError\u001b[0m                                 Traceback (most recent call last)",
      "Cell \u001b[1;32mIn[114], line 1\u001b[0m\n\u001b[1;32m----> 1\u001b[0m a[\u001b[38;5;241m2\u001b[39m] \u001b[38;5;241m=\u001b[39m \u001b[38;5;241m200\u001b[39m\n",
      "\u001b[1;31mTypeError\u001b[0m: 'tuple' object does not support item assignment"
     ]
    }
   ],
   "source": [
    "a[2] = 200"
   ]
  },
  {
   "cell_type": "code",
   "execution_count": 115,
   "id": "23f84c8e-a7eb-4ee8-9c32-d4e5edf9529c",
   "metadata": {},
   "outputs": [],
   "source": [
    "b = 'apples', 'oranges'"
   ]
  },
  {
   "cell_type": "code",
   "execution_count": 116,
   "id": "e8298d0c-779a-4ebd-b4b3-9bb7c4de3896",
   "metadata": {},
   "outputs": [
    {
     "data": {
      "text/plain": [
       "('apples', 'oranges')"
      ]
     },
     "execution_count": 116,
     "metadata": {},
     "output_type": "execute_result"
    }
   ],
   "source": [
    "b"
   ]
  },
  {
   "cell_type": "code",
   "execution_count": 119,
   "id": "6be3a928-1d5c-4092-8526-ac46797c909d",
   "metadata": {},
   "outputs": [],
   "source": [
    "b = (3*3)+3"
   ]
  },
  {
   "cell_type": "code",
   "execution_count": 120,
   "id": "c397b24b-ce25-4040-bf86-f0d7a4e75220",
   "metadata": {},
   "outputs": [
    {
     "data": {
      "text/plain": [
       "int"
      ]
     },
     "execution_count": 120,
     "metadata": {},
     "output_type": "execute_result"
    }
   ],
   "source": [
    "type(b)"
   ]
  },
  {
   "cell_type": "code",
   "execution_count": 122,
   "id": "da89555c-6895-44e0-980c-6336c5310a26",
   "metadata": {},
   "outputs": [
    {
     "data": {
      "text/plain": [
       "tuple"
      ]
     },
     "execution_count": 122,
     "metadata": {},
     "output_type": "execute_result"
    }
   ],
   "source": [
    "c = 3,\n",
    "type(c)"
   ]
  },
  {
   "cell_type": "code",
   "execution_count": 125,
   "id": "ab36c2b3-4906-4da7-9ee3-5821a6d35e6e",
   "metadata": {},
   "outputs": [
    {
     "data": {
      "text/plain": [
       "(1, 2, 3, ['apple', 'orange'])"
      ]
     },
     "execution_count": 125,
     "metadata": {},
     "output_type": "execute_result"
    }
   ],
   "source": [
    "atuple = (1,2,3,['apple','orange'])\n",
    "atuple"
   ]
  },
  {
   "cell_type": "markdown",
   "id": "8773d310-3e73-461d-a1a9-8585ba4d5d32",
   "metadata": {},
   "source": [
    "# SET\n",
    "   - collection of well defined and distinct(unique) object is called set.\n",
    "   - {1,2,3,4}\n"
   ]
  },
  {
   "cell_type": "code",
   "execution_count": 136,
   "id": "c1da70b6-bf46-470a-bdf0-57390fbc5ab8",
   "metadata": {},
   "outputs": [
    {
     "data": {
      "text/plain": [
       "8"
      ]
     },
     "execution_count": 136,
     "metadata": {},
     "output_type": "execute_result"
    }
   ],
   "source": [
    "nums = {1,2,3,4,5,6,5,9,1,7}\n",
    "len(nums)"
   ]
  },
  {
   "cell_type": "code",
   "execution_count": 137,
   "id": "71824228-d200-47b0-90ff-5f24f6148b35",
   "metadata": {},
   "outputs": [
    {
     "data": {
      "text/plain": [
       "{1, 2, 3, 4, 5, 6, 7, 9}"
      ]
     },
     "execution_count": 137,
     "metadata": {},
     "output_type": "execute_result"
    }
   ],
   "source": [
    "nums"
   ]
  },
  {
   "cell_type": "code",
   "execution_count": 138,
   "id": "f89c7bb0-a9d2-4e84-9b23-9714a5083767",
   "metadata": {},
   "outputs": [],
   "source": [
    "nums.add(100)"
   ]
  },
  {
   "cell_type": "code",
   "execution_count": 139,
   "id": "f7fb1bce-2a54-4cde-a0a0-f4a20e38347d",
   "metadata": {},
   "outputs": [
    {
     "data": {
      "text/plain": [
       "{1, 2, 3, 4, 5, 6, 7, 9, 100}"
      ]
     },
     "execution_count": 139,
     "metadata": {},
     "output_type": "execute_result"
    }
   ],
   "source": [
    "nums"
   ]
  },
  {
   "cell_type": "code",
   "execution_count": 142,
   "id": "045a6f09-5d24-448d-aabe-9154a03ba562",
   "metadata": {},
   "outputs": [
    {
     "data": {
      "text/plain": [
       "{2, 4, 6}"
      ]
     },
     "execution_count": 142,
     "metadata": {},
     "output_type": "execute_result"
    }
   ],
   "source": [
    "setA = {1, 2, 3, 4, 5, 6, 7, 9, 100}\n",
    "setB = {1,3,5,7,9,1,13,99,100}\n",
    "setA.difference(setB)"
   ]
  },
  {
   "cell_type": "code",
   "execution_count": 141,
   "id": "ddceba93-915a-4172-a57f-3ae86cd7fdbd",
   "metadata": {},
   "outputs": [
    {
     "data": {
      "text/plain": [
       "{13, 99}"
      ]
     },
     "execution_count": 141,
     "metadata": {},
     "output_type": "execute_result"
    }
   ],
   "source": [
    "setB.difference(setA)"
   ]
  },
  {
   "cell_type": "code",
   "execution_count": 143,
   "id": "ba306b23-c533-4ccc-a2ab-680a857c1f22",
   "metadata": {},
   "outputs": [],
   "source": [
    "setA.difference_update(setB)"
   ]
  },
  {
   "cell_type": "code",
   "execution_count": 144,
   "id": "2701b8f5-134b-4f4f-8d14-d20f4b779589",
   "metadata": {},
   "outputs": [
    {
     "data": {
      "text/plain": [
       "{2, 4, 6}"
      ]
     },
     "execution_count": 144,
     "metadata": {},
     "output_type": "execute_result"
    }
   ],
   "source": [
    "setA"
   ]
  },
  {
   "cell_type": "code",
   "execution_count": 145,
   "id": "81c9bc2d-d949-4919-af2a-14a86acafc59",
   "metadata": {},
   "outputs": [
    {
     "data": {
      "text/plain": [
       "{1, 3, 5, 7, 9, 100}"
      ]
     },
     "execution_count": 145,
     "metadata": {},
     "output_type": "execute_result"
    }
   ],
   "source": [
    "setA = {1, 2, 3, 4, 5, 6, 7, 9, 100}\n",
    "setB = {1,3,5,7,9,1,13,99,100}\n",
    "setA.intersection(setB)"
   ]
  },
  {
   "cell_type": "code",
   "execution_count": 146,
   "id": "02f93cd3-2fee-4473-a134-e93bc9e3c2c4",
   "metadata": {},
   "outputs": [
    {
     "data": {
      "text/plain": [
       "{1, 3, 5, 7, 9, 100}"
      ]
     },
     "execution_count": 146,
     "metadata": {},
     "output_type": "execute_result"
    }
   ],
   "source": [
    "setB.intersection(setA)"
   ]
  },
  {
   "cell_type": "code",
   "execution_count": 147,
   "id": "c0ae2f6b-8092-49f1-97b1-8b7002085292",
   "metadata": {},
   "outputs": [],
   "source": [
    "setA.intersection_update(setB)"
   ]
  },
  {
   "cell_type": "code",
   "execution_count": 148,
   "id": "bd44cbd1-5f05-4fda-8115-5eb76784be81",
   "metadata": {},
   "outputs": [
    {
     "data": {
      "text/plain": [
       "{1, 3, 5, 7, 9, 100}"
      ]
     },
     "execution_count": 148,
     "metadata": {},
     "output_type": "execute_result"
    }
   ],
   "source": [
    "setA"
   ]
  },
  {
   "cell_type": "code",
   "execution_count": 149,
   "id": "00e26c6e-d903-481b-806d-f60cd20f4a1a",
   "metadata": {},
   "outputs": [
    {
     "data": {
      "text/plain": [
       "False"
      ]
     },
     "execution_count": 149,
     "metadata": {},
     "output_type": "execute_result"
    }
   ],
   "source": [
    "setA.isdisjoint(setB)"
   ]
  },
  {
   "cell_type": "code",
   "execution_count": 150,
   "id": "e789b4a1-bbac-405c-a154-da115a6ae507",
   "metadata": {},
   "outputs": [
    {
     "data": {
      "text/plain": [
       "{1, 3, 5, 7, 9, 100}"
      ]
     },
     "execution_count": 150,
     "metadata": {},
     "output_type": "execute_result"
    }
   ],
   "source": [
    "setA"
   ]
  },
  {
   "cell_type": "code",
   "execution_count": 151,
   "id": "16dd8014-6629-4c51-9908-d35d69bbd829",
   "metadata": {},
   "outputs": [
    {
     "data": {
      "text/plain": [
       "{1, 3, 5, 7, 9, 13, 99, 100}"
      ]
     },
     "execution_count": 151,
     "metadata": {},
     "output_type": "execute_result"
    }
   ],
   "source": [
    "setB"
   ]
  },
  {
   "cell_type": "code",
   "execution_count": 152,
   "id": "de98e04e-5627-4cce-976a-6b5b592520f2",
   "metadata": {},
   "outputs": [],
   "source": [
    "setC={88,77,66,55,44}"
   ]
  },
  {
   "cell_type": "code",
   "execution_count": 153,
   "id": "f50107fd-4669-4e9b-8ad5-75139d7ba050",
   "metadata": {},
   "outputs": [
    {
     "data": {
      "text/plain": [
       "True"
      ]
     },
     "execution_count": 153,
     "metadata": {},
     "output_type": "execute_result"
    }
   ],
   "source": [
    "setA.isdisjoint(setC)"
   ]
  },
  {
   "cell_type": "code",
   "execution_count": 157,
   "id": "097b80ae-9fa3-4422-b37d-2fdc4de89916",
   "metadata": {},
   "outputs": [
    {
     "data": {
      "text/plain": [
       "{1, 3, 5, 7, 9, 13, 44, 55, 66, 77, 88, 99, 100}"
      ]
     },
     "execution_count": 157,
     "metadata": {},
     "output_type": "execute_result"
    }
   ],
   "source": [
    "setA.union(setB).union(setC)"
   ]
  },
  {
   "cell_type": "code",
   "execution_count": 158,
   "id": "a290edf8-3ad9-4b4b-8f14-0566cbb0801b",
   "metadata": {},
   "outputs": [],
   "source": [
    "setA.discard(\"Apple\")"
   ]
  },
  {
   "cell_type": "code",
   "execution_count": null,
   "id": "9cc35879-bbc8-4607-ae1f-f51a32bb615b",
   "metadata": {},
   "outputs": [],
   "source": []
  }
 ],
 "metadata": {
  "kernelspec": {
   "display_name": "Python 3 (ipykernel)",
   "language": "python",
   "name": "python3"
  },
  "language_info": {
   "codemirror_mode": {
    "name": "ipython",
    "version": 3
   },
   "file_extension": ".py",
   "mimetype": "text/x-python",
   "name": "python",
   "nbconvert_exporter": "python",
   "pygments_lexer": "ipython3",
   "version": "3.12.3"
  }
 },
 "nbformat": 4,
 "nbformat_minor": 5
}
