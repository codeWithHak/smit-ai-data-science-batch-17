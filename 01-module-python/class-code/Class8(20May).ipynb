{
 "cells": [
  {
   "cell_type": "code",
   "execution_count": 11,
   "id": "af5584e8-868a-4357-85f5-c0baf612b319",
   "metadata": {},
   "outputs": [],
   "source": [
    "alst = [1,2,3,4,5,6,[22,33,44], {'apple':12, 'peech':13}]"
   ]
  },
  {
   "cell_type": "code",
   "execution_count": 15,
   "id": "28121252-77f9-4878-9c2f-be917bb96146",
   "metadata": {},
   "outputs": [
    {
     "data": {
      "text/plain": [
       "13"
      ]
     },
     "execution_count": 15,
     "metadata": {},
     "output_type": "execute_result"
    }
   ],
   "source": [
    "alst[7]['peech']"
   ]
  },
  {
   "cell_type": "code",
   "execution_count": 12,
   "id": "3a868ffb-306e-4d43-8b21-3976b3123f72",
   "metadata": {},
   "outputs": [
    {
     "data": {
      "text/plain": [
       "8"
      ]
     },
     "execution_count": 12,
     "metadata": {},
     "output_type": "execute_result"
    }
   ],
   "source": [
    "len(alst)"
   ]
  },
  {
   "cell_type": "code",
   "execution_count": 8,
   "id": "03325985-1830-458f-b00e-93885553d46e",
   "metadata": {},
   "outputs": [],
   "source": [
    "b = alst[6]"
   ]
  },
  {
   "cell_type": "code",
   "execution_count": 9,
   "id": "87f19dc9-12ae-4b61-9d6b-01d8b4f3a6a3",
   "metadata": {},
   "outputs": [
    {
     "data": {
      "text/plain": [
       "[22, 33, 44]"
      ]
     },
     "execution_count": 9,
     "metadata": {},
     "output_type": "execute_result"
    }
   ],
   "source": [
    "b"
   ]
  },
  {
   "cell_type": "code",
   "execution_count": 10,
   "id": "e2c2efed-a28a-4b4e-a953-33b7d4796383",
   "metadata": {},
   "outputs": [
    {
     "data": {
      "text/plain": [
       "33"
      ]
     },
     "execution_count": 10,
     "metadata": {},
     "output_type": "execute_result"
    }
   ],
   "source": [
    "alst[6][1]"
   ]
  },
  {
   "cell_type": "code",
   "execution_count": 16,
   "id": "8bf0a7c6-8058-4c89-bc09-795f152060b7",
   "metadata": {},
   "outputs": [],
   "source": [
    "x = ['a','b',{'foo': 1,'bar':{'x' : 10,'y' : 20,'z' : 30},'baz': 3},'c', 'd']"
   ]
  },
  {
   "cell_type": "code",
   "execution_count": 31,
   "id": "d4e25666-6c5c-4ff8-8831-725818c0dd37",
   "metadata": {},
   "outputs": [
    {
     "data": {
      "text/plain": [
       "{'foo': 1, 'bar': {'x': 10, 'y': 20, 'z': 30}, 'baz': 3}"
      ]
     },
     "execution_count": 31,
     "metadata": {},
     "output_type": "execute_result"
    }
   ],
   "source": [
    "dict.popitem()"
   ]
  },
  {
   "cell_type": "code",
   "execution_count": 21,
   "id": "9306ca9c-0d59-48cc-93c2-280b494f5b6a",
   "metadata": {},
   "outputs": [
    {
     "data": {
      "text/plain": [
       "30"
      ]
     },
     "execution_count": 21,
     "metadata": {},
     "output_type": "execute_result"
    }
   ],
   "source": [
    "x[2]['bar']['z']"
   ]
  },
  {
   "cell_type": "code",
   "execution_count": 22,
   "id": "3d6a2eb1-cdc0-457c-b8ea-193340530eb6",
   "metadata": {},
   "outputs": [
    {
     "data": {
      "text/plain": [
       "{<function len(obj, /)>: 'hello'}"
      ]
     },
     "execution_count": 22,
     "metadata": {},
     "output_type": "execute_result"
    }
   ],
   "source": [
    "{len:\"hello\"}"
   ]
  },
  {
   "cell_type": "code",
   "execution_count": 23,
   "id": "a5c7f3a8-f4fb-421e-abc0-6e916a67dd0f",
   "metadata": {},
   "outputs": [
    {
     "data": {
      "text/plain": [
       "{'foo': 23}"
      ]
     },
     "execution_count": 23,
     "metadata": {},
     "output_type": "execute_result"
    }
   ],
   "source": [
    "{'foo':23}"
   ]
  },
  {
   "cell_type": "code",
   "execution_count": 24,
   "id": "daac6f3d-d3d3-40ce-b5d6-8d941022ef10",
   "metadata": {},
   "outputs": [
    {
     "data": {
      "text/plain": [
       "{('foo', 'bar'): 12}"
      ]
     },
     "execution_count": 24,
     "metadata": {},
     "output_type": "execute_result"
    }
   ],
   "source": [
    "{('foo', 'bar'):12}"
   ]
  },
  {
   "cell_type": "code",
   "execution_count": 25,
   "id": "b3a0bd61-1971-4ce4-ae3a-1685a3eda1d2",
   "metadata": {},
   "outputs": [
    {
     "ename": "TypeError",
     "evalue": "unhashable type: 'list'",
     "output_type": "error",
     "traceback": [
      "\u001b[1;31m---------------------------------------------------------------------------\u001b[0m",
      "\u001b[1;31mTypeError\u001b[0m                                 Traceback (most recent call last)",
      "Cell \u001b[1;32mIn[25], line 1\u001b[0m\n\u001b[1;32m----> 1\u001b[0m {[\u001b[38;5;124m'\u001b[39m\u001b[38;5;124mfoo\u001b[39m\u001b[38;5;124m'\u001b[39m, \u001b[38;5;124m'\u001b[39m\u001b[38;5;124mbar\u001b[39m\u001b[38;5;124m'\u001b[39m]:\u001b[38;5;241m23\u001b[39m}\n",
      "\u001b[1;31mTypeError\u001b[0m: unhashable type: 'list'"
     ]
    }
   ],
   "source": [
    "{['foo', 'bar']:23}"
   ]
  },
  {
   "cell_type": "code",
   "execution_count": 26,
   "id": "57d4054e-d5c0-4e79-9b3a-ee826a65be45",
   "metadata": {},
   "outputs": [
    {
     "ename": "TypeError",
     "evalue": "unhashable type: 'dict'",
     "output_type": "error",
     "traceback": [
      "\u001b[1;31m---------------------------------------------------------------------------\u001b[0m",
      "\u001b[1;31mTypeError\u001b[0m                                 Traceback (most recent call last)",
      "Cell \u001b[1;32mIn[26], line 1\u001b[0m\n\u001b[1;32m----> 1\u001b[0m {\u001b[38;5;28mdict\u001b[39m(foo\u001b[38;5;241m=\u001b[39m\u001b[38;5;241m1\u001b[39m, bar\u001b[38;5;241m=\u001b[39m\u001b[38;5;241m2\u001b[39m):\u001b[38;5;241m4667\u001b[39m}\n",
      "\u001b[1;31mTypeError\u001b[0m: unhashable type: 'dict'"
     ]
    }
   ],
   "source": [
    "{dict(foo=1, bar=2):4667}"
   ]
  },
  {
   "cell_type": "code",
   "execution_count": 27,
   "id": "c1dae658-1716-48f7-95e4-cd933122eadb",
   "metadata": {},
   "outputs": [
    {
     "data": {
      "text/plain": [
       "{(3+2j): 2}"
      ]
     },
     "execution_count": 27,
     "metadata": {},
     "output_type": "execute_result"
    }
   ],
   "source": [
    "{(3+2j):2}"
   ]
  },
  {
   "cell_type": "code",
   "execution_count": 28,
   "id": "1cd79921-3259-4e6e-8691-5295ddee38ae",
   "metadata": {},
   "outputs": [],
   "source": [
    "a = 10 "
   ]
  },
  {
   "cell_type": "code",
   "execution_count": 30,
   "id": "5c404c81-456d-4233-bb4e-99b97196de07",
   "metadata": {},
   "outputs": [],
   "source": [
    "a=11"
   ]
  },
  {
   "cell_type": "code",
   "execution_count": 32,
   "id": "29cdd42d-ee4e-4e03-9abd-aed45bc271aa",
   "metadata": {},
   "outputs": [],
   "source": [
    "d1 = {'x' : 10,'y' : 20,'z' : 30}"
   ]
  },
  {
   "cell_type": "code",
   "execution_count": 33,
   "id": "facb1eaf-ad3d-485b-baa1-390ef3e00cba",
   "metadata": {},
   "outputs": [],
   "source": [
    "d2 = d1"
   ]
  },
  {
   "cell_type": "code",
   "execution_count": 34,
   "id": "fe280847-0232-4ceb-a6cd-e7500419f10b",
   "metadata": {},
   "outputs": [
    {
     "data": {
      "text/plain": [
       "{'x': 10, 'y': 20, 'z': 30}"
      ]
     },
     "execution_count": 34,
     "metadata": {},
     "output_type": "execute_result"
    }
   ],
   "source": [
    "d2"
   ]
  },
  {
   "cell_type": "code",
   "execution_count": 35,
   "id": "b84ca69f-b9b3-4140-adac-735060345745",
   "metadata": {},
   "outputs": [
    {
     "ename": "ValueError",
     "evalue": "dictionary update sequence element #0 has length 1; 2 is required",
     "output_type": "error",
     "traceback": [
      "\u001b[1;31m---------------------------------------------------------------------------\u001b[0m",
      "\u001b[1;31mValueError\u001b[0m                                Traceback (most recent call last)",
      "Cell \u001b[1;32mIn[35], line 1\u001b[0m\n\u001b[1;32m----> 1\u001b[0m d2 \u001b[38;5;241m=\u001b[39m \u001b[38;5;28mdict\u001b[39m(d1\u001b[38;5;241m.\u001b[39mkeys())\n\u001b[0;32m      2\u001b[0m d2\n",
      "\u001b[1;31mValueError\u001b[0m: dictionary update sequence element #0 has length 1; 2 is required"
     ]
    }
   ],
   "source": [
    "d2 = dict(d1.keys())\n",
    "d2"
   ]
  },
  {
   "cell_type": "code",
   "execution_count": 36,
   "id": "1cfa6b83-7a4e-4391-b8b7-36e3cf654aef",
   "metadata": {},
   "outputs": [
    {
     "ename": "TypeError",
     "evalue": "cannot convert dictionary update sequence element #0 to a sequence",
     "output_type": "error",
     "traceback": [
      "\u001b[1;31m---------------------------------------------------------------------------\u001b[0m",
      "\u001b[1;31mTypeError\u001b[0m                                 Traceback (most recent call last)",
      "Cell \u001b[1;32mIn[36], line 1\u001b[0m\n\u001b[1;32m----> 1\u001b[0m d2 \u001b[38;5;241m=\u001b[39m \u001b[38;5;28mdict\u001b[39m(d1\u001b[38;5;241m.\u001b[39mvalues())\n\u001b[0;32m      2\u001b[0m d2\n",
      "\u001b[1;31mTypeError\u001b[0m: cannot convert dictionary update sequence element #0 to a sequence"
     ]
    }
   ],
   "source": [
    "d2 = dict(d1.values())\n",
    "d2"
   ]
  },
  {
   "cell_type": "code",
   "execution_count": 37,
   "id": "5830c7d6-29a3-4147-8757-76a093c75e55",
   "metadata": {},
   "outputs": [
    {
     "data": {
      "text/plain": [
       "{'x': 10, 'y': 20, 'z': 30}"
      ]
     },
     "execution_count": 37,
     "metadata": {},
     "output_type": "execute_result"
    }
   ],
   "source": [
    "d2 = dict(d1.items())\n",
    "d2"
   ]
  },
  {
   "cell_type": "code",
   "execution_count": 38,
   "id": "8a9021e3-9876-48d8-a309-de7a63be7a81",
   "metadata": {},
   "outputs": [],
   "source": [
    "d2 = dict(d1)"
   ]
  },
  {
   "cell_type": "code",
   "execution_count": 39,
   "id": "cfb10e8e-592c-4f67-9159-09ef875a115d",
   "metadata": {},
   "outputs": [
    {
     "data": {
      "text/plain": [
       "{'x': 10, 'y': 20, 'z': 30}"
      ]
     },
     "execution_count": 39,
     "metadata": {},
     "output_type": "execute_result"
    }
   ],
   "source": [
    "d2"
   ]
  },
  {
   "cell_type": "code",
   "execution_count": 40,
   "id": "4b97e623-0d86-445c-bb03-3370e26f1082",
   "metadata": {},
   "outputs": [
    {
     "data": {
      "text/plain": [
       "{'x': 10, 'y': 20, 'z': 30}"
      ]
     },
     "execution_count": 40,
     "metadata": {},
     "output_type": "execute_result"
    }
   ],
   "source": [
    "d2"
   ]
  },
  {
   "cell_type": "code",
   "execution_count": 41,
   "id": "393c5972-f5d0-4180-8003-a240efdbca89",
   "metadata": {},
   "outputs": [],
   "source": [
    "t1 = {1:2,2:4,3:6}"
   ]
  },
  {
   "cell_type": "code",
   "execution_count": 42,
   "id": "ea069688-f24a-482d-b403-d81c0fb28ba1",
   "metadata": {},
   "outputs": [],
   "source": [
    "d2.update(t1)"
   ]
  },
  {
   "cell_type": "code",
   "execution_count": 43,
   "id": "494443f3-013e-4c06-b685-94ff1a309269",
   "metadata": {},
   "outputs": [
    {
     "data": {
      "text/plain": [
       "{'x': 10, 'y': 20, 'z': 30, 1: 2, 2: 4, 3: 6}"
      ]
     },
     "execution_count": 43,
     "metadata": {},
     "output_type": "execute_result"
    }
   ],
   "source": [
    "d2"
   ]
  },
  {
   "cell_type": "code",
   "execution_count": 44,
   "id": "3df9fdde-99a5-4c27-a0dc-9397048a108d",
   "metadata": {},
   "outputs": [],
   "source": [
    "d2= {}"
   ]
  },
  {
   "cell_type": "code",
   "execution_count": 45,
   "id": "17ef1165-72f1-4314-969d-54026ea45641",
   "metadata": {},
   "outputs": [
    {
     "data": {
      "text/plain": [
       "{1: 2, 2: 4, 3: 6}"
      ]
     },
     "execution_count": 45,
     "metadata": {},
     "output_type": "execute_result"
    }
   ],
   "source": [
    "d2.update(t1)\n",
    "d2"
   ]
  },
  {
   "cell_type": "code",
   "execution_count": 48,
   "id": "ecb538fb-0351-45d1-b112-fddf73d812a1",
   "metadata": {},
   "outputs": [
    {
     "data": {
      "text/plain": [
       "'n'"
      ]
     },
     "execution_count": 48,
     "metadata": {},
     "output_type": "execute_result"
    }
   ],
   "source": [
    "\"pakistan\"[-1]"
   ]
  },
  {
   "cell_type": "markdown",
   "id": "f4c4e732-5ce4-458a-8bf3-25198283bdce",
   "metadata": {},
   "source": [
    "#### packing and unpacking"
   ]
  },
  {
   "cell_type": "code",
   "execution_count": 68,
   "id": "0381fd88-f48f-4948-8357-57a033fe65dd",
   "metadata": {},
   "outputs": [],
   "source": [
    "# packing\n",
    "friends = ['ahmed','hassan', 'aslam']"
   ]
  },
  {
   "cell_type": "code",
   "execution_count": 51,
   "id": "a9bd5de1-817a-45c2-9422-541ab9d1c145",
   "metadata": {},
   "outputs": [],
   "source": [
    "# unpacking\n",
    "f1,f2 = friends"
   ]
  },
  {
   "cell_type": "code",
   "execution_count": 52,
   "id": "55b3a987-4f05-4ac0-b116-64998e06f5c8",
   "metadata": {},
   "outputs": [
    {
     "data": {
      "text/plain": [
       "'ahmed'"
      ]
     },
     "execution_count": 52,
     "metadata": {},
     "output_type": "execute_result"
    }
   ],
   "source": [
    "f1"
   ]
  },
  {
   "cell_type": "code",
   "execution_count": 53,
   "id": "7710b89a-9813-4117-b70e-71aa5e265ce3",
   "metadata": {},
   "outputs": [
    {
     "data": {
      "text/plain": [
       "'hassan'"
      ]
     },
     "execution_count": 53,
     "metadata": {},
     "output_type": "execute_result"
    }
   ],
   "source": [
    "f2"
   ]
  },
  {
   "cell_type": "code",
   "execution_count": 54,
   "id": "201fdfd8-1a8c-41b7-a17b-c44a4ad09dc9",
   "metadata": {},
   "outputs": [],
   "source": [
    "friends = ('ahmed','hassan')\n"
   ]
  },
  {
   "cell_type": "code",
   "execution_count": 55,
   "id": "d4e039d9-e36d-4882-958e-c6a933822b18",
   "metadata": {},
   "outputs": [],
   "source": [
    "f1,f2 = friends"
   ]
  },
  {
   "cell_type": "code",
   "execution_count": 56,
   "id": "1ac7382a-cf05-4a0d-9b37-393cc17e408f",
   "metadata": {},
   "outputs": [
    {
     "data": {
      "text/plain": [
       "'ahmed'"
      ]
     },
     "execution_count": 56,
     "metadata": {},
     "output_type": "execute_result"
    }
   ],
   "source": [
    "f1"
   ]
  },
  {
   "cell_type": "code",
   "execution_count": 57,
   "id": "78897e12-f9b8-4a5d-a92a-ce02adb28f90",
   "metadata": {},
   "outputs": [
    {
     "data": {
      "text/plain": [
       "'hassan'"
      ]
     },
     "execution_count": 57,
     "metadata": {},
     "output_type": "execute_result"
    }
   ],
   "source": [
    "f2"
   ]
  },
  {
   "cell_type": "code",
   "execution_count": 59,
   "id": "3283ae43-304b-426e-95fb-c3f59a62ec07",
   "metadata": {},
   "outputs": [
    {
     "ename": "ValueError",
     "evalue": "not enough values to unpack (expected 3, got 2)",
     "output_type": "error",
     "traceback": [
      "\u001b[1;31m---------------------------------------------------------------------------\u001b[0m",
      "\u001b[1;31mValueError\u001b[0m                                Traceback (most recent call last)",
      "Cell \u001b[1;32mIn[59], line 1\u001b[0m\n\u001b[1;32m----> 1\u001b[0m f1,f2,f3 \u001b[38;5;241m=\u001b[39m friends\n",
      "\u001b[1;31mValueError\u001b[0m: not enough values to unpack (expected 3, got 2)"
     ]
    }
   ],
   "source": [
    "f1,f2,f3 = friends"
   ]
  },
  {
   "cell_type": "code",
   "execution_count": 60,
   "id": "a47289bc-8238-46f8-8f67-7716fac30101",
   "metadata": {},
   "outputs": [],
   "source": [
    "box = ('watch', 'wallet', 'cards', 'keys')"
   ]
  },
  {
   "cell_type": "code",
   "execution_count": 61,
   "id": "24ad67a2-df8d-4a0a-b943-8f51bdd94f99",
   "metadata": {},
   "outputs": [],
   "source": [
    "item1,item2,item3,item4 = box"
   ]
  },
  {
   "cell_type": "code",
   "execution_count": 62,
   "id": "39c41060-c328-4a0d-a57c-db7d684f1bb7",
   "metadata": {},
   "outputs": [
    {
     "data": {
      "text/plain": [
       "'watch'"
      ]
     },
     "execution_count": 62,
     "metadata": {},
     "output_type": "execute_result"
    }
   ],
   "source": [
    "item1"
   ]
  },
  {
   "cell_type": "code",
   "execution_count": 63,
   "id": "5135bc2a-b614-4142-bcc8-f48926bcd6e9",
   "metadata": {},
   "outputs": [
    {
     "data": {
      "text/plain": [
       "'wallet'"
      ]
     },
     "execution_count": 63,
     "metadata": {},
     "output_type": "execute_result"
    }
   ],
   "source": [
    "item2"
   ]
  },
  {
   "cell_type": "code",
   "execution_count": 64,
   "id": "f19efe08-d2c8-4ef7-be5a-5683a3698c3b",
   "metadata": {},
   "outputs": [
    {
     "data": {
      "text/plain": [
       "('watch', 'wallet', 'cards', 'keys')"
      ]
     },
     "execution_count": 64,
     "metadata": {},
     "output_type": "execute_result"
    }
   ],
   "source": [
    "box"
   ]
  },
  {
   "cell_type": "markdown",
   "id": "40908e82-f441-4549-ac67-b8c3a3f1eaa5",
   "metadata": {},
   "source": [
    "# Loops\n",
    "   - what is a loop?\n",
    "   - For in\n",
    "   - While\n"
   ]
  },
  {
   "cell_type": "markdown",
   "id": "0942cd9c-bde9-48e8-858f-092c75e72772",
   "metadata": {},
   "source": [
    "# For in Loop"
   ]
  },
  {
   "cell_type": "code",
   "execution_count": 65,
   "id": "17ffaaea-6ff9-4116-a357-62dafaf304b7",
   "metadata": {},
   "outputs": [
    {
     "name": "stdout",
     "output_type": "stream",
     "text": [
      "Nasir Hussain\n",
      "Nasir Hussain\n",
      "Nasir Hussain\n",
      "Nasir Hussain\n",
      "Nasir Hussain\n",
      "Nasir Hussain\n",
      "Nasir Hussain\n",
      "Nasir Hussain\n",
      "Nasir Hussain\n",
      "Nasir Hussain\n"
     ]
    }
   ],
   "source": [
    "# to print your name 1000 times\n",
    "print(\"Nasir Hussain\")\n",
    "print(\"Nasir Hussain\")\n",
    "print(\"Nasir Hussain\")\n",
    "print(\"Nasir Hussain\")\n",
    "print(\"Nasir Hussain\")\n",
    "print(\"Nasir Hussain\")\n",
    "print(\"Nasir Hussain\")\n",
    "print(\"Nasir Hussain\")\n",
    "print(\"Nasir Hussain\")\n",
    "print(\"Nasir Hussain\")"
   ]
  },
  {
   "cell_type": "code",
   "execution_count": null,
   "id": "3f70ee02-450e-4b9e-9f97-7a0ef597c94f",
   "metadata": {},
   "outputs": [],
   "source": [
    "for a in range(1000):\n",
    "    print(a, 'Nasir Hussain')"
   ]
  },
  {
   "cell_type": "code",
   "execution_count": 70,
   "id": "8dc6e82e-8970-4757-bd04-1eb2460a938c",
   "metadata": {},
   "outputs": [
    {
     "name": "stdout",
     "output_type": "stream",
     "text": [
      "Hello ahmed\n",
      "Hello hassan\n",
      "Hello aslam\n"
     ]
    }
   ],
   "source": [
    "for a in friends:\n",
    "    print(f\"Hello {a}\")"
   ]
  },
  {
   "cell_type": "code",
   "execution_count": null,
   "id": "0411720a-e561-4f0d-a282-4059af3209b7",
   "metadata": {},
   "outputs": [],
   "source": []
  }
 ],
 "metadata": {
  "kernelspec": {
   "display_name": "Python 3 (ipykernel)",
   "language": "python",
   "name": "python3"
  },
  "language_info": {
   "codemirror_mode": {
    "name": "ipython",
    "version": 3
   },
   "file_extension": ".py",
   "mimetype": "text/x-python",
   "name": "python",
   "nbconvert_exporter": "python",
   "pygments_lexer": "ipython3",
   "version": "3.12.3"
  }
 },
 "nbformat": 4,
 "nbformat_minor": 5
}
