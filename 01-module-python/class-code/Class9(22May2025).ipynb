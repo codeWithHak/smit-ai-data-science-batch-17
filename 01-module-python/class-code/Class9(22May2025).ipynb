{
 "cells": [
  {
   "cell_type": "markdown",
   "id": "a397e5cd-cf1a-4ad0-a572-e20a74968609",
   "metadata": {},
   "source": [
    "# For Loop\n",
    "        - for    in \n",
    "        - it always requires a sequence to iterate over.\n",
    "\n",
    "       "
   ]
  },
  {
   "cell_type": "code",
   "execution_count": 14,
   "id": "633046e7-fa45-4ab1-9981-cb550f0c8ec1",
   "metadata": {},
   "outputs": [],
   "source": [
    "students = ['Asad','Farooq', 'Shayan','Hashir','Talha','IK','Asim', \"Aurangzeb\",\"ali\"]"
   ]
  },
  {
   "cell_type": "code",
   "execution_count": 5,
   "id": "c792314a-e70a-40f8-a2c5-75022e5c6238",
   "metadata": {},
   "outputs": [
    {
     "name": "stdout",
     "output_type": "stream",
     "text": [
      "- Hello Asad\n",
      "- Hello Farooq\n",
      "- Hello Shayan\n",
      "- Hello Hashir\n",
      "- Hello Talha\n",
      "- Hello IK\n",
      "- Hello Asim\n",
      "- Hello Aurangzeb\n"
     ]
    }
   ],
   "source": [
    "# direct iterating over list\n",
    "for s in students:\n",
    "    print(f\"- Hello {s}\")  "
   ]
  },
  {
   "cell_type": "code",
   "execution_count": 12,
   "id": "2e448971-cf39-4561-9a14-dfe6914515ab",
   "metadata": {},
   "outputs": [
    {
     "name": "stdout",
     "output_type": "stream",
     "text": [
      "0 Asad\n",
      "1 Farooq\n",
      "2 Shayan\n",
      "3 Hashir\n",
      "4 Talha\n",
      "5 IK\n",
      "6 Asim\n",
      "7 Aurangzeb\n"
     ]
    }
   ],
   "source": [
    "# iteating over list using index\n",
    "for n in range(8): #0,1\n",
    "    print(n, students[n])"
   ]
  },
  {
   "cell_type": "code",
   "execution_count": 11,
   "id": "1af4a370-07e1-405e-ba5b-ae1ae060f9c8",
   "metadata": {},
   "outputs": [
    {
     "data": {
      "text/plain": [
       "[1, 2, 3, 4, 5, 6, 7, 8, 9]"
      ]
     },
     "execution_count": 11,
     "metadata": {},
     "output_type": "execute_result"
    }
   ],
   "source": [
    "list(range(1,10))"
   ]
  },
  {
   "cell_type": "code",
   "execution_count": 17,
   "id": "d811537e-b78d-4cc3-ad13-2e4beff66700",
   "metadata": {},
   "outputs": [
    {
     "data": {
      "text/plain": [
       "9"
      ]
     },
     "execution_count": 17,
     "metadata": {},
     "output_type": "execute_result"
    }
   ],
   "source": [
    "len(students)"
   ]
  },
  {
   "cell_type": "code",
   "execution_count": 16,
   "id": "c06c0931-6ac3-4f78-ab92-951e667e2de9",
   "metadata": {},
   "outputs": [
    {
     "name": "stdout",
     "output_type": "stream",
     "text": [
      "0 Asad\n",
      "1 Farooq\n",
      "2 Shayan\n",
      "3 Hashir\n",
      "4 Talha\n",
      "5 IK\n",
      "6 Asim\n",
      "7 Aurangzeb\n",
      "8 ali\n"
     ]
    }
   ],
   "source": [
    "for n in range(len(students)): #0,1\n",
    "    print(n, students[n])"
   ]
  },
  {
   "cell_type": "code",
   "execution_count": null,
   "id": "b038cc3c-6317-450c-b369-c4c6567713db",
   "metadata": {},
   "outputs": [],
   "source": []
  },
  {
   "cell_type": "code",
   "execution_count": 19,
   "id": "2b7cc95f-7d0a-4f8f-9744-a3d82704c7c9",
   "metadata": {},
   "outputs": [
    {
     "name": "stdout",
     "output_type": "stream",
     "text": [
      "ali\n",
      "Aurangzeb\n",
      "Asim\n",
      "IK\n",
      "Talha\n",
      "Hashir\n",
      "Shayan\n",
      "Farooq\n",
      "Asad\n"
     ]
    }
   ],
   "source": [
    "# to print the list items in reverse order we will reverse the list first\n",
    "for s in students[::-1]:\n",
    "    print(s)    "
   ]
  },
  {
   "cell_type": "code",
   "execution_count": 20,
   "id": "53b5fa6c-9f7b-4aa0-83f7-720b2aa21a58",
   "metadata": {},
   "outputs": [
    {
     "ename": "TypeError",
     "evalue": "'NoneType' object is not iterable",
     "output_type": "error",
     "traceback": [
      "\u001b[1;31m---------------------------------------------------------------------------\u001b[0m",
      "\u001b[1;31mTypeError\u001b[0m                                 Traceback (most recent call last)",
      "Cell \u001b[1;32mIn[20], line 1\u001b[0m\n\u001b[1;32m----> 1\u001b[0m \u001b[38;5;28;01mfor\u001b[39;00m a \u001b[38;5;129;01min\u001b[39;00m students\u001b[38;5;241m.\u001b[39mreverse():  \u001b[38;5;66;03m# p\u001b[39;00m\n\u001b[0;32m      2\u001b[0m     \u001b[38;5;28mprint\u001b[39m(a)\n",
      "\u001b[1;31mTypeError\u001b[0m: 'NoneType' object is not iterable"
     ]
    }
   ],
   "source": [
    "for a in students.reverse():  # p\n",
    "    print(a)"
   ]
  },
  {
   "cell_type": "code",
   "execution_count": 22,
   "id": "78408881-c927-4460-9089-357749726b27",
   "metadata": {},
   "outputs": [],
   "source": [
    "lst =[1,2,3,4]"
   ]
  },
  {
   "cell_type": "code",
   "execution_count": 24,
   "id": "c79cc0ca-658f-4bbc-a02f-e47584168388",
   "metadata": {},
   "outputs": [
    {
     "name": "stdout",
     "output_type": "stream",
     "text": [
      "None\n"
     ]
    }
   ],
   "source": [
    "print(lst.sort())"
   ]
  },
  {
   "cell_type": "code",
   "execution_count": 25,
   "id": "4ab78662-aa1c-45de-8a8f-846059375fa1",
   "metadata": {},
   "outputs": [],
   "source": [
    "lst.reverse()"
   ]
  },
  {
   "cell_type": "code",
   "execution_count": 27,
   "id": "5c35fed4-59fc-458a-8793-f1df75ebdf84",
   "metadata": {},
   "outputs": [
    {
     "name": "stdout",
     "output_type": "stream",
     "text": [
      "0 Asad\n",
      "1 Farooq\n",
      "2 Shayan\n",
      "3 Hashir\n",
      "4 Talha\n",
      "5 IK\n",
      "6 Asim\n",
      "7 Aurangzeb\n",
      "8 ali\n"
     ]
    }
   ],
   "source": [
    "for n,s in enumerate(students[::-1]):\n",
    "    print(n,s) "
   ]
  },
  {
   "cell_type": "code",
   "execution_count": 29,
   "id": "e8c9c611-fc4b-4683-963c-6137a191dea2",
   "metadata": {},
   "outputs": [],
   "source": [
    "fruits = ['apple','orange',\"banana\"]"
   ]
  },
  {
   "cell_type": "code",
   "execution_count": 32,
   "id": "6c77f9a1-4a4d-4846-b4a2-684d4a7d6448",
   "metadata": {},
   "outputs": [
    {
     "name": "stdout",
     "output_type": "stream",
     "text": [
      "0 apple\n",
      "1 orange\n",
      "2 banana\n"
     ]
    }
   ],
   "source": [
    "for n,f in enumerate(fruits):\n",
    "    print(n, f )"
   ]
  },
  {
   "cell_type": "code",
   "execution_count": 34,
   "id": "76faa3ee-47a5-4cf3-b8b0-0d461a5b5dff",
   "metadata": {},
   "outputs": [
    {
     "name": "stdout",
     "output_type": "stream",
     "text": [
      "['ali', 'Aurangzeb', 'Asim', 'IK', 'Talha', 'Hashir', 'Shayan', 'Farooq', 'Asad']\n"
     ]
    }
   ],
   "source": [
    "print(students)"
   ]
  },
  {
   "cell_type": "markdown",
   "id": "c7c67c00-1faa-4db5-a782-e6bc542235b3",
   "metadata": {},
   "source": [
    "# continue , break "
   ]
  },
  {
   "cell_type": "code",
   "execution_count": 36,
   "id": "2247abc4-193d-4fbf-9ae8-bba9bb957e95",
   "metadata": {},
   "outputs": [
    {
     "name": "stdout",
     "output_type": "stream",
     "text": [
      "Dear Mr. ali, Kal apki chutti hy\n",
      "Dear Mr. Aurangzeb, Kal apki chutti hy\n",
      "Dear Mr. Asim, Kal apki chutti hy\n",
      "Dear Mr. IK, Kal apki chutti hy\n",
      "Dear Mr. Talha, Kal apki chutti hy\n",
      "Dear Mr. Hashir, Kal apki chutti hy\n",
      "Dear Mr. Shayan, Kal apki chutti hy\n",
      "Dear Mr. Farooq, Kal apki chutti hy\n",
      "Dear Mr. Asad, Kal apki chutti hy\n"
     ]
    }
   ],
   "source": [
    "for s in students:\n",
    "    print(f\"Dear Mr. {s}, Kal apki chutti hy\")"
   ]
  },
  {
   "cell_type": "code",
   "execution_count": 37,
   "id": "48dd3a57-649f-42bd-84bd-c21aeb4c3a89",
   "metadata": {},
   "outputs": [
    {
     "name": "stdout",
     "output_type": "stream",
     "text": [
      "Dear Mr. ali, Kal apki chutti hy\n",
      "Dear Mr. Aurangzeb, Kal apko zaror ana hy\n",
      "Dear Mr. Asim, Kal apki chutti hy\n",
      "Dear Mr. IK, Kal apki chutti hy\n",
      "Dear Mr. Talha, Kal apko zaror ana hy\n",
      "Dear Mr. Hashir, Kal apko zaror ana hy\n",
      "Dear Mr. Shayan, Kal apko zaror ana hy\n",
      "Dear Mr. Farooq, Kal apko zaror ana hy\n",
      "Dear Mr. Asad, Kal apki chutti hy\n"
     ]
    }
   ],
   "source": [
    "for s in students:\n",
    "    if len(s)<5:\n",
    "        print(f\"Dear Mr. {s}, Kal apki chutti hy\")\n",
    "    else:\n",
    "        print(f\"Dear Mr. {s}, Kal apko zaror ana hy\")"
   ]
  },
  {
   "cell_type": "code",
   "execution_count": 38,
   "id": "061ed3ef-3942-4181-a845-85f66d973846",
   "metadata": {},
   "outputs": [
    {
     "name": "stdout",
     "output_type": "stream",
     "text": [
      "ali\n",
      "Aurangzeb\n",
      "Asim\n",
      "IK\n",
      "Talha\n"
     ]
    }
   ],
   "source": [
    "for s in students:\n",
    "    if s==\"Hashir\":\n",
    "        break\n",
    "    else:\n",
    "        print(s)"
   ]
  },
  {
   "cell_type": "code",
   "execution_count": 41,
   "id": "6623a537-0131-484e-83bb-eb1b0456b9d9",
   "metadata": {},
   "outputs": [
    {
     "name": "stdin",
     "output_type": "stream",
     "text": [
      "Enter guest name nasir\n",
      "Enter guest name anas\n",
      "Enter guest name hamza\n",
      "Enter guest name ahmed\n",
      "Enter guest name uzair\n"
     ]
    },
    {
     "data": {
      "text/plain": [
       "['nasir', 'anas', 'hamza', 'ahmed', 'uzair']"
      ]
     },
     "execution_count": 41,
     "metadata": {},
     "output_type": "execute_result"
    }
   ],
   "source": [
    "guests = []\n",
    "for barati in range(5):\n",
    "    name = input(\"Enter guest name\")\n",
    "    guests.append(name)\n",
    "guests"
   ]
  },
  {
   "cell_type": "code",
   "execution_count": 40,
   "id": "1575648d-4a52-4ea6-a93c-0e4da1e4fa35",
   "metadata": {},
   "outputs": [
    {
     "data": {
      "text/plain": [
       "['sir nasir']"
      ]
     },
     "execution_count": 40,
     "metadata": {},
     "output_type": "execute_result"
    }
   ],
   "source": [
    "guests"
   ]
  },
  {
   "cell_type": "code",
   "execution_count": 42,
   "id": "23b2cbdd-50b3-49c9-b7a0-5f66e07791ff",
   "metadata": {},
   "outputs": [
    {
     "name": "stdin",
     "output_type": "stream",
     "text": [
      "Enter dish name:  biryani\n",
      "Enter dish name:  karahi\n",
      "Enter dish name:  fish\n",
      "Enter dish name:  seekh booti\n",
      "Enter dish name:  labe shiren\n"
     ]
    },
    {
     "data": {
      "text/plain": [
       "['biryani', 'karahi', 'fish', 'seekh booti', 'labe shiren']"
      ]
     },
     "execution_count": 42,
     "metadata": {},
     "output_type": "execute_result"
    }
   ],
   "source": [
    "menu = []\n",
    "for a in range(5):\n",
    "    dish = input(\"Enter dish name: \")\n",
    "    menu.append(dish)\n",
    "menu"
   ]
  },
  {
   "cell_type": "code",
   "execution_count": 47,
   "id": "c991ff5b-1643-4c42-9e5d-4031e33483c4",
   "metadata": {},
   "outputs": [
    {
     "name": "stdin",
     "output_type": "stream",
     "text": [
      "Enter dish name:  FISH\n",
      "Enter dish name:  a\n",
      "Enter dish name:  s\n",
      "Enter dish name:  f\n",
      "Enter dish name:  g\n"
     ]
    },
    {
     "data": {
      "text/plain": [
       "['a', 's', 'f', 'g']"
      ]
     },
     "execution_count": 47,
     "metadata": {},
     "output_type": "execute_result"
    }
   ],
   "source": [
    "menu = []\n",
    "for a in range(5):\n",
    "    dish = input(\"Enter dish name: \").lower()\n",
    "    if dish==\"fish\":\n",
    "        continue\n",
    "    menu.append(dish)\n",
    "menu"
   ]
  },
  {
   "cell_type": "code",
   "execution_count": 43,
   "id": "192d9ef9-f6e0-429e-ac34-10ecc08f8aba",
   "metadata": {},
   "outputs": [
    {
     "name": "stdout",
     "output_type": "stream",
     "text": [
      "0\n",
      "1\n",
      "2\n",
      "3\n",
      "4\n",
      "6\n",
      "7\n",
      "8\n",
      "9\n"
     ]
    }
   ],
   "source": [
    "for a in range(10):\n",
    "    if a==5:\n",
    "        continue\n",
    "    else:\n",
    "        print(a)"
   ]
  },
  {
   "cell_type": "code",
   "execution_count": 45,
   "id": "5bd3649a-aaf4-4f83-afd2-8cb310199e45",
   "metadata": {},
   "outputs": [
    {
     "name": "stdin",
     "output_type": "stream",
     "text": [
      "biryani for 300 people 50000\n",
      "karahi for 300 people 30000\n",
      "fish for 300 people 100000\n",
      "seekh booti for 300 people 60000\n",
      "labe shiren for 300 people 30000\n"
     ]
    },
    {
     "data": {
      "text/plain": [
       "{'biryani': '50000',\n",
       " 'karahi': '30000',\n",
       " 'fish': '100000',\n",
       " 'seekh booti': '60000',\n",
       " 'labe shiren': '30000'}"
      ]
     },
     "execution_count": 45,
     "metadata": {},
     "output_type": "execute_result"
    }
   ],
   "source": [
    "rates ={}\n",
    "items = ['biryani', 'karahi', 'fish', 'seekh booti', 'labe shiren']\n",
    "for i in items:\n",
    "    price=input(f\"{i} for 300 people\")\n",
    "    rates[i]=price\n",
    "rates"
   ]
  },
  {
   "cell_type": "code",
   "execution_count": 52,
   "id": "181d7c2d-68dd-46f6-a5f3-dddaddcb95ce",
   "metadata": {},
   "outputs": [
    {
     "name": "stdin",
     "output_type": "stream",
     "text": [
      "wht is the price of charger 100\n",
      "wht is the price of handsfree 200\n",
      "wht is the price of usb 300\n",
      "wht is the price of datacable 400\n",
      "wht is the price of powerbank 500\n",
      "wht is the price of mouse 600\n",
      "wht is the price of keyboard 700\n",
      "wht is the price of mobilecover 800\n"
     ]
    },
    {
     "name": "stdout",
     "output_type": "stream",
     "text": [
      "{'charger': 100, 'handsfree': 200, 'usb': 300, 'datacable': 400, 'powerbank': 500, 'mouse': 600, 'keyboard': 700, 'mobilecover': 800}\n"
     ]
    },
    {
     "data": {
      "text/plain": [
       "3600"
      ]
     },
     "execution_count": 52,
     "metadata": {},
     "output_type": "execute_result"
    }
   ],
   "source": [
    "shop = ['charger', 'handsfree', 'usb', 'datacable', 'powerbank', 'mouse','keyboard','mobilecover']\n",
    "cart = {}\n",
    "total = 0\n",
    "for i in shop:\n",
    "    price  = int(input(f\"wht is the price of {i}\"))\n",
    "    cart[i] = price\n",
    "    total +=price\n",
    "print(cart)\n",
    "total"
   ]
  },
  {
   "cell_type": "code",
   "execution_count": 51,
   "id": "93cfe8b3-b98f-446f-851f-d514b2d9cbf8",
   "metadata": {},
   "outputs": [
    {
     "data": {
      "text/plain": [
       "{'charger': 300,\n",
       " 'handsfree': 400,\n",
       " 'usb': 500,\n",
       " 'datacable': 600,\n",
       " 'powerbank': 700,\n",
       " 'mouse': 345,\n",
       " 'keyboard': 1234,\n",
       " 'mobilecover': 3456}"
      ]
     },
     "execution_count": 51,
     "metadata": {},
     "output_type": "execute_result"
    }
   ],
   "source": [
    "cart"
   ]
  },
  {
   "cell_type": "code",
   "execution_count": 56,
   "id": "9a178807-5f31-4293-aa6b-5dfb2fa0aa97",
   "metadata": {},
   "outputs": [
    {
     "name": "stdin",
     "output_type": "stream",
     "text": [
      "wht is the price of charger 234\n",
      "wht is the price of handsfree 234\n",
      "wht is the price of usb 456\n",
      "wht is the price of datacable 56\n",
      "wht is the price of powerbank 712\n",
      "wht is the price of mouse 3456\n",
      "wht is the price of keyboard 7890\n",
      "wht is the price of mobilecover 123\n"
     ]
    },
    {
     "name": "stdout",
     "output_type": "stream",
     "text": [
      "{'charger': 234, 'handsfree': 234, 'usb': 456, 'datacable': 56, 'powerbank': 712, 'mouse': 3456, 'keyboard': 7890, 'mobilecover': 123}\n",
      "13161\n"
     ]
    }
   ],
   "source": [
    "shop = ['charger', 'handsfree', 'usb', 'datacable', 'powerbank', 'mouse','keyboard','mobilecover']\n",
    "cart = {}\n",
    "for i in shop:\n",
    "    price  = int(input(f\"wht is the price of {i}\"))\n",
    "    cart[i] = price\n",
    "    \n",
    "total  = sum(cart.values())\n",
    "print(cart)\n",
    "print(total)"
   ]
  },
  {
   "cell_type": "code",
   "execution_count": 55,
   "id": "eb06e7ca-5b54-41fc-91d8-08204c387016",
   "metadata": {},
   "outputs": [
    {
     "data": {
      "text/plain": [
       "3600"
      ]
     },
     "execution_count": 55,
     "metadata": {},
     "output_type": "execute_result"
    }
   ],
   "source": [
    "sum(cart.values())"
   ]
  },
  {
   "cell_type": "code",
   "execution_count": null,
   "id": "74d9d525-809b-4de9-a064-b0eab91503b3",
   "metadata": {},
   "outputs": [],
   "source": []
  }
 ],
 "metadata": {
  "kernelspec": {
   "display_name": "Python 3 (ipykernel)",
   "language": "python",
   "name": "python3"
  },
  "language_info": {
   "codemirror_mode": {
    "name": "ipython",
    "version": 3
   },
   "file_extension": ".py",
   "mimetype": "text/x-python",
   "name": "python",
   "nbconvert_exporter": "python",
   "pygments_lexer": "ipython3",
   "version": "3.12.3"
  }
 },
 "nbformat": 4,
 "nbformat_minor": 5
}
